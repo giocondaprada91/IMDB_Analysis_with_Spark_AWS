{
 "cells": [
  {
   "cell_type": "markdown",
   "id": "73bc9548",
   "metadata": {
    "tags": []
   },
   "source": [
    "# Analysis of IMDB Data"
   ]
  },
  {
   "cell_type": "markdown",
   "id": "7679c0c0",
   "metadata": {},
   "source": [
    "We will analyze a subset of IMDB's actors, genres, movie actors, and movie ratings data. This dataset comes to us from Kaggle (https://www.kaggle.com/datasets/ashirwadsangwan/imdb-dataset) although we have taken steps to pull this data into a public S3 bucket: \n",
    "\n",
    "* s3://cis9760-lecture9-movieanalysis/name.basics.new.tsv ---> Name Basics\n",
    "* s3://cis9760-lecture9-movieanalysis/title.basic.new.tsv ---> Title Basics\n",
    "* s3://cis9760-lecture9-movieanalysis/title.principles.new.tsv ---> Title Principles\n",
    "* s3://cis9760-lecture9-movieanalysis/title.ratings.new.tsv ---> Title Ratings"
   ]
  },
  {
   "cell_type": "markdown",
   "id": "0c83c199-55f4-4988-9ce2-30aaf5dd0a10",
   "metadata": {},
   "source": [
    "# Content\n",
    "\n",
    "**<br />name.basics.tsv.gz – Contains the following information for names:**\n",
    "<br />nconst (string) - alphanumeric unique identifier of the name/person.\n",
    "<br />primaryName (string)– name by which the person is most often credited.\n",
    "<br />birthYear – in YYYY format.\n",
    "<br />deathYear – in YYYY format if applicable, else .\n",
    "<br />primaryProfession (array of strings)– the top-3 professions of the person.\n",
    "<br />knownForTitles (array of tconsts) – titles the person is known for.\n",
    "<br/><br/>\n",
    "**<br />title.basics.tsv.gz - Contains the following information for titles:**\n",
    "<br />tconst (string) - alphanumeric unique identifier of the title.\n",
    "<br />titleType (string) – the type/format of the title (e.g. movie, short, tvseries, tvepisode, video, etc).\n",
    "<br />primaryTitle (string) – the more popular title / the title used by the filmmakers on promotional materials at the point of release.\n",
    "<br />originalTitle (string) - original title, in the original language.\n",
    "<br />isAdult (boolean) - 0: non-adult title; 1: adult title.\n",
    "<br />startYear (YYYY) – represents the release year of a title. In the case of TV Series, it is the series start year.\n",
    "<br />endYear (YYYY) – TV Series end year. for all other title types.\n",
    "<br />runtimeMinutes – primary runtime of the title, in minutes.\n",
    "<br />genres (string array) – includes up to three genres associated with the title.\n",
    "<br/><br/>\n",
    "**<br />title.principals.tsv – Contains the principal cast/crew for titles:**\n",
    "<br />tconst (string) - alphanumeric unique identifier of the title.\n",
    "<br />ordering (integer) – a number to uniquely identify rows for a given titleId.\n",
    "<br />nconst (string) - alphanumeric unique identifier of the name/person.\n",
    "<br />category (string) - the category of job that person was in.\n",
    "<br />job (string) - the specific job title if applicable, else.\n",
    "<br />characters (string) - the name of the character played if applicable, else.\n",
    "<br/><br/>\n",
    "**<br />title.ratings.tsv.gz – Contains the IMDb rating and votes information for titles:**\n",
    "<br />tconst (string) - alphanumeric unique identifier of the title.\n",
    "<br />averageRating – weighted average of all the individual user ratings.\n",
    "<br />numVotes - number of votes the title has received."
   ]
  },
  {
   "cell_type": "markdown",
   "id": "08416e6e",
   "metadata": {},
   "source": [
    "# PART 1 - Installation and Initial Setup"
   ]
  },
  {
   "cell_type": "code",
   "execution_count": 1,
   "id": "0c8b0667",
   "metadata": {
    "execution": {
     "iopub.execute_input": "2024-12-09T19:01:35.334831Z",
     "iopub.status.busy": "2024-12-09T19:01:35.334568Z",
     "iopub.status.idle": "2024-12-09T19:01:35.347183Z",
     "shell.execute_reply": "2024-12-09T19:01:35.346454Z",
     "shell.execute_reply.started": "2024-12-09T19:01:35.334803Z"
    },
    "tags": []
   },
   "outputs": [
    {
     "data": {
      "text/html": [
       "Current session configs: <tt>{'proxyUser': 'user_EMR-User', 'conf': {'spark.pyspark.python': 'python3', 'spark.pyspark.virtualenv.enabled': 'true', 'spark.pyspark.virtualenv.type': 'native', 'spark.pyspark.virtualenv.bin.path': '/usr/bin/virtualenv'}, 'kind': 'pyspark'}</tt><br>"
      ],
      "text/plain": [
       "<IPython.core.display.HTML object>"
      ]
     },
     "metadata": {},
     "output_type": "display_data"
    },
    {
     "data": {
      "text/html": [
       "No active sessions."
      ],
      "text/plain": [
       "<IPython.core.display.HTML object>"
      ]
     },
     "metadata": {},
     "output_type": "display_data"
    }
   ],
   "source": [
    "%%info"
   ]
  },
  {
   "cell_type": "markdown",
   "id": "04b07b9f",
   "metadata": {},
   "source": [
    "Begin by installing the necessary libraries that you may need to conduct your analysis. At the very least, you must install pandas and matplotlib"
   ]
  },
  {
   "cell_type": "markdown",
   "id": "1fc39c6b",
   "metadata": {},
   "source": [
    "Let's install the necessary packages here"
   ]
  },
  {
   "cell_type": "code",
   "execution_count": 2,
   "id": "e0a576cf",
   "metadata": {
    "execution": {
     "iopub.execute_input": "2024-12-09T19:01:35.364258Z",
     "iopub.status.busy": "2024-12-09T19:01:35.363911Z",
     "iopub.status.idle": "2024-12-09T19:02:37.291527Z",
     "shell.execute_reply": "2024-12-09T19:02:37.290709Z",
     "shell.execute_reply.started": "2024-12-09T19:01:35.364234Z"
    },
    "tags": []
   },
   "outputs": [
    {
     "data": {
      "application/vnd.jupyter.widget-view+json": {
       "model_id": "6155ed70d31144528f7456a4a53339fd",
       "version_major": 2,
       "version_minor": 0
      },
      "text/plain": [
       "VBox()"
      ]
     },
     "metadata": {},
     "output_type": "display_data"
    },
    {
     "name": "stdout",
     "output_type": "stream",
     "text": [
      "Starting Spark application\n"
     ]
    },
    {
     "data": {
      "text/html": [
       "<table>\n",
       "<tbody><tr><th>ID</th><th>YARN Application ID</th><th>Kind</th><th>State</th><th>Spark UI</th><th>Driver log</th><th>User</th><th>Current session?</th></tr><tr><td>4</td><td>application_1733752468724_0005</td><td>pyspark</td><td>idle</td><td><a target=\"_blank\" href=\"http://ip-172-31-31-59.us-east-2.compute.internal:20888/proxy/application_1733752468724_0005/\" class=\"emr-proxy-link j-1YU0TP3W1NWGD application_1733752468724_0005\" emr-resource=\"j-1YU0TP3W1NWGD\n",
       "\" application-id=\"application_1733752468724_0005\">Link</a></td><td><a target=\"_blank\" href=\"http://ip-172-31-22-149.us-east-2.compute.internal:8042/node/containerlogs/container_1733752468724_0005_01_000001/livy\">Link</a></td><td>None</td><td>✔</td></tr></tbody></table>"
      ],
      "text/plain": [
       "<IPython.core.display.HTML object>"
      ]
     },
     "metadata": {},
     "output_type": "display_data"
    },
    {
     "data": {
      "application/vnd.jupyter.widget-view+json": {
       "model_id": "",
       "version_major": 2,
       "version_minor": 0
      },
      "text/plain": [
       "FloatProgress(value=0.0, bar_style='info', description='Progress:', layout=Layout(height='25px', width='50%'),…"
      ]
     },
     "metadata": {},
     "output_type": "display_data"
    },
    {
     "name": "stdout",
     "output_type": "stream",
     "text": [
      "SparkSession available as 'spark'.\n"
     ]
    },
    {
     "data": {
      "application/vnd.jupyter.widget-view+json": {
       "model_id": "",
       "version_major": 2,
       "version_minor": 0
      },
      "text/plain": [
       "FloatProgress(value=0.0, bar_style='info', description='Progress:', layout=Layout(height='25px', width='50%'),…"
      ]
     },
     "metadata": {},
     "output_type": "display_data"
    },
    {
     "name": "stdout",
     "output_type": "stream",
     "text": [
      "Collecting pandas\n",
      "  Downloading pandas-1.3.5-cp37-cp37m-manylinux_2_17_x86_64.manylinux2014_x86_64.whl (11.3 MB)\n",
      "Collecting python-dateutil>=2.7.3\n",
      "  Downloading python_dateutil-2.9.0.post0-py2.py3-none-any.whl (229 kB)\n",
      "Requirement already satisfied: numpy>=1.17.3; platform_machine != \"aarch64\" and platform_machine != \"arm64\" and python_version < \"3.10\" in /usr/local/lib64/python3.7/site-packages (from pandas) (1.20.0)\n",
      "Requirement already satisfied: pytz>=2017.3 in /usr/local/lib/python3.7/site-packages (from pandas) (2023.3)\n",
      "Requirement already satisfied: six>=1.5 in /usr/local/lib/python3.7/site-packages (from python-dateutil>=2.7.3->pandas) (1.13.0)\n",
      "Installing collected packages: python-dateutil, pandas\n",
      "Successfully installed pandas-1.3.5 python-dateutil-2.9.0.post0\n",
      "\n",
      "Requirement already satisfied: python-dateutil in ./tmp/spark-a24e9453-9aae-4840-a16d-d5dbf02430a6/lib/python3.7/site-packages (2.9.0.post0)\n",
      "Requirement already satisfied: six>=1.5 in /usr/local/lib/python3.7/site-packages (from python-dateutil) (1.13.0)\n",
      "\n",
      "Collecting matplotlib\n",
      "  Downloading matplotlib-3.5.3-cp37-cp37m-manylinux_2_5_x86_64.manylinux1_x86_64.whl (11.2 MB)\n",
      "Requirement already satisfied: numpy>=1.17 in /usr/local/lib64/python3.7/site-packages (from matplotlib) (1.20.0)\n",
      "Collecting packaging>=20.0\n",
      "  Downloading packaging-24.0-py3-none-any.whl (53 kB)\n",
      "Requirement already satisfied: python-dateutil>=2.7 in ./tmp/spark-a24e9453-9aae-4840-a16d-d5dbf02430a6/lib/python3.7/site-packages (from matplotlib) (2.9.0.post0)\n",
      "Collecting pyparsing>=2.2.1\n",
      "  Downloading pyparsing-3.1.4-py3-none-any.whl (104 kB)\n",
      "Collecting cycler>=0.10\n",
      "  Downloading cycler-0.11.0-py3-none-any.whl (6.4 kB)\n",
      "Collecting fonttools>=4.22.0\n",
      "  Downloading fonttools-4.38.0-py3-none-any.whl (965 kB)\n",
      "Collecting pillow>=6.2.0\n",
      "  Downloading Pillow-9.5.0-cp37-cp37m-manylinux_2_17_x86_64.manylinux2014_x86_64.whl (3.3 MB)\n",
      "Collecting kiwisolver>=1.0.1\n",
      "  Downloading kiwisolver-1.4.5-cp37-cp37m-manylinux_2_5_x86_64.manylinux1_x86_64.whl (1.1 MB)\n",
      "Requirement already satisfied: six>=1.5 in /usr/local/lib/python3.7/site-packages (from python-dateutil>=2.7->matplotlib) (1.13.0)\n",
      "Collecting typing-extensions; python_version < \"3.8\"\n",
      "  Downloading typing_extensions-4.7.1-py3-none-any.whl (33 kB)\n",
      "Installing collected packages: packaging, pyparsing, cycler, fonttools, pillow, typing-extensions, kiwisolver, matplotlib\n",
      "Successfully installed cycler-0.11.0 fonttools-4.38.0 kiwisolver-1.4.5 matplotlib-3.5.3 packaging-24.0 pillow-9.5.0 pyparsing-3.1.4 typing-extensions-4.7.1\n",
      "\n",
      "Requirement already satisfied: cycler in ./tmp/spark-a24e9453-9aae-4840-a16d-d5dbf02430a6/lib/python3.7/site-packages (0.11.0)\n",
      "\n",
      "Requirement already satisfied: pyparsing in ./tmp/spark-a24e9453-9aae-4840-a16d-d5dbf02430a6/lib/python3.7/site-packages (3.1.4)\n",
      "\n",
      "Requirement already satisfied: kiwisolver in ./tmp/spark-a24e9453-9aae-4840-a16d-d5dbf02430a6/lib/python3.7/site-packages (1.4.5)\n",
      "Requirement already satisfied: typing-extensions; python_version < \"3.8\" in ./tmp/spark-a24e9453-9aae-4840-a16d-d5dbf02430a6/lib/python3.7/site-packages (from kiwisolver) (4.7.1)\n",
      "\n",
      "Requirement already satisfied: typing-extensions in ./tmp/spark-a24e9453-9aae-4840-a16d-d5dbf02430a6/lib/python3.7/site-packages (4.7.1)\n",
      "\n",
      "WARNING: The directory '/home/.cache/pip' or its parent directory is not owned or is not writable by the current user. The cache has been disabled. Check the permissions and owner of that directory. If executing pip with sudo, you may want sudo's -H flag.\n",
      "\n",
      "WARNING: The directory '/home/.cache/pip' or its parent directory is not owned or is not writable by the current user. The cache has been disabled. Check the permissions and owner of that directory. If executing pip with sudo, you may want sudo's -H flag.\n",
      "\n",
      "WARNING: The directory '/home/.cache/pip' or its parent directory is not owned or is not writable by the current user. The cache has been disabled. Check the permissions and owner of that directory. If executing pip with sudo, you may want sudo's -H flag.\n",
      "\n",
      "WARNING: The directory '/home/.cache/pip' or its parent directory is not owned or is not writable by the current user. The cache has been disabled. Check the permissions and owner of that directory. If executing pip with sudo, you may want sudo's -H flag.\n",
      "\n",
      "WARNING: The directory '/home/.cache/pip' or its parent directory is not owned or is not writable by the current user. The cache has been disabled. Check the permissions and owner of that directory. If executing pip with sudo, you may want sudo's -H flag.\n",
      "\n",
      "WARNING: The directory '/home/.cache/pip' or its parent directory is not owned or is not writable by the current user. The cache has been disabled. Check the permissions and owner of that directory. If executing pip with sudo, you may want sudo's -H flag.\n",
      "\n",
      "WARNING: The directory '/home/.cache/pip' or its parent directory is not owned or is not writable by the current user. The cache has been disabled. Check the permissions and owner of that directory. If executing pip with sudo, you may want sudo's -H flag."
     ]
    }
   ],
   "source": [
    "sc.install_pypi_package(\"pandas\")\n",
    "sc.install_pypi_package(\"python-dateutil\")\n",
    "sc.install_pypi_package(\"matplotlib\")\n",
    "sc.install_pypi_package(\"cycler\")\n",
    "sc.install_pypi_package(\"pyparsing\")\n",
    "sc.install_pypi_package(\"kiwisolver\")\n",
    "sc.install_pypi_package(\"typing-extensions\")"
   ]
  },
  {
   "cell_type": "markdown",
   "id": "5ab05754",
   "metadata": {},
   "source": [
    "Now, import the installed packages from the previous block below."
   ]
  },
  {
   "cell_type": "code",
   "execution_count": 3,
   "id": "6d0a7012",
   "metadata": {
    "execution": {
     "iopub.execute_input": "2024-12-09T19:02:37.301978Z",
     "iopub.status.busy": "2024-12-09T19:02:37.301636Z",
     "iopub.status.idle": "2024-12-09T19:02:39.561817Z",
     "shell.execute_reply": "2024-12-09T19:02:39.560914Z",
     "shell.execute_reply.started": "2024-12-09T19:02:37.301945Z"
    },
    "tags": []
   },
   "outputs": [
    {
     "data": {
      "application/vnd.jupyter.widget-view+json": {
       "model_id": "e5390e86d59b4363b7affc204c2ecaa3",
       "version_major": 2,
       "version_minor": 0
      },
      "text/plain": [
       "VBox()"
      ]
     },
     "metadata": {},
     "output_type": "display_data"
    },
    {
     "data": {
      "application/vnd.jupyter.widget-view+json": {
       "model_id": "",
       "version_major": 2,
       "version_minor": 0
      },
      "text/plain": [
       "FloatProgress(value=0.0, bar_style='info', description='Progress:', layout=Layout(height='25px', width='50%'),…"
      ]
     },
     "metadata": {},
     "output_type": "display_data"
    }
   ],
   "source": [
    "import pandas as pd\n",
    "from datetime import datetime\n",
    "import matplotlib.pyplot as plt\n",
    "from cycler import cycler\n",
    "import pyparsing\n",
    "from typing_extensions import Protocol \n",
    "import numpy as np"
   ]
  },
  {
   "cell_type": "markdown",
   "id": "e963f4ba",
   "metadata": {},
   "source": [
    "# Loading Data"
   ]
  },
  {
   "cell_type": "markdown",
   "id": "b4356189",
   "metadata": {},
   "source": [
    "Load all data from S3 into a Spark dataframe object "
   ]
  },
  {
   "cell_type": "code",
   "execution_count": 4,
   "id": "24beddd1",
   "metadata": {
    "execution": {
     "iopub.execute_input": "2024-12-09T19:02:39.567634Z",
     "iopub.status.busy": "2024-12-09T19:02:39.567115Z",
     "iopub.status.idle": "2024-12-09T19:04:03.074282Z",
     "shell.execute_reply": "2024-12-09T19:04:03.072833Z",
     "shell.execute_reply.started": "2024-12-09T19:02:39.567598Z"
    },
    "tags": []
   },
   "outputs": [
    {
     "data": {
      "application/vnd.jupyter.widget-view+json": {
       "model_id": "4312ed82d49c464cb27a56b804b5637e",
       "version_major": 2,
       "version_minor": 0
      },
      "text/plain": [
       "VBox()"
      ]
     },
     "metadata": {},
     "output_type": "display_data"
    },
    {
     "data": {
      "application/vnd.jupyter.widget-view+json": {
       "model_id": "",
       "version_major": 2,
       "version_minor": 0
      },
      "text/plain": [
       "FloatProgress(value=0.0, bar_style='info', description='Progress:', layout=Layout(height='25px', width='50%'),…"
      ]
     },
     "metadata": {},
     "output_type": "display_data"
    }
   ],
   "source": [
    "df1 = spark.read.csv('s3://cis9760-lecture9-movieanalysis/name.basics.new.tsv', header='true', inferSchema = True, sep='\\t')\n",
    "df2 = spark.read.csv('s3://cis9760-lecture9-movieanalysis/title.basic.new.tsv', header='true', inferSchema = True,  sep='\\t')\n",
    "df3 = spark.read.csv('s3://cis9760-lecture9-movieanalysis/title.principles.new.tsv', header='true', inferSchema = True,  sep='\\t')\n",
    "df4 = spark.read.csv('s3://cis9760-lecture9-movieanalysis/title.ratings.new.tsv', header='true', inferSchema = True,  sep='\\t')"
   ]
  },
  {
   "cell_type": "markdown",
   "id": "c65401c7",
   "metadata": {},
   "source": [
    "## Name Basics"
   ]
  },
  {
   "cell_type": "markdown",
   "id": "03981851",
   "metadata": {},
   "source": [
    "Display the schema below:"
   ]
  },
  {
   "cell_type": "code",
   "execution_count": 5,
   "id": "1593287e-a262-4157-b7d8-10867951f6eb",
   "metadata": {
    "execution": {
     "iopub.execute_input": "2024-12-09T19:04:03.084569Z",
     "iopub.status.busy": "2024-12-09T19:04:03.081277Z",
     "iopub.status.idle": "2024-12-09T19:04:03.173854Z",
     "shell.execute_reply": "2024-12-09T19:04:03.172735Z",
     "shell.execute_reply.started": "2024-12-09T19:04:03.084514Z"
    }
   },
   "outputs": [
    {
     "data": {
      "application/vnd.jupyter.widget-view+json": {
       "model_id": "e75101de5abd48b2ad67a6a2cfb69d27",
       "version_major": 2,
       "version_minor": 0
      },
      "text/plain": [
       "VBox()"
      ]
     },
     "metadata": {},
     "output_type": "display_data"
    },
    {
     "data": {
      "application/vnd.jupyter.widget-view+json": {
       "model_id": "",
       "version_major": 2,
       "version_minor": 0
      },
      "text/plain": [
       "FloatProgress(value=0.0, bar_style='info', description='Progress:', layout=Layout(height='25px', width='50%'),…"
      ]
     },
     "metadata": {},
     "output_type": "display_data"
    },
    {
     "name": "stdout",
     "output_type": "stream",
     "text": [
      "root\n",
      " |-- nconst: string (nullable = true)\n",
      " |-- primaryName: string (nullable = true)\n",
      " |-- birthYear: string (nullable = true)\n",
      " |-- deathYear: string (nullable = true)\n",
      " |-- primaryProfession: string (nullable = true)\n",
      " |-- knownForTitles: string (nullable = true)"
     ]
    }
   ],
   "source": [
    "df1.printSchema()"
   ]
  },
  {
   "cell_type": "markdown",
   "id": "dfd8a219",
   "metadata": {},
   "source": [
    "Display the first 15 rows with the following columns:\n",
    "\n",
    "* `nconst`\n",
    "* `primaryName`\n",
    "* `primaryProfession`\n",
    "* `birthYear`"
   ]
  },
  {
   "cell_type": "code",
   "execution_count": 40,
   "id": "29db2340",
   "metadata": {
    "execution": {
     "iopub.execute_input": "2024-12-09T22:13:10.540293Z",
     "iopub.status.busy": "2024-12-09T22:13:10.539990Z",
     "iopub.status.idle": "2024-12-09T22:13:19.824831Z",
     "shell.execute_reply": "2024-12-09T22:13:19.824140Z",
     "shell.execute_reply.started": "2024-12-09T22:13:10.540268Z"
    },
    "tags": []
   },
   "outputs": [
    {
     "data": {
      "application/vnd.jupyter.widget-view+json": {
       "model_id": "c58e2d8ad1d441d0bb4de5c475a2f6d7",
       "version_major": 2,
       "version_minor": 0
      },
      "text/plain": [
       "VBox()"
      ]
     },
     "metadata": {},
     "output_type": "display_data"
    },
    {
     "data": {
      "application/vnd.jupyter.widget-view+json": {
       "model_id": "",
       "version_major": 2,
       "version_minor": 0
      },
      "text/plain": [
       "FloatProgress(value=0.0, bar_style='info', description='Progress:', layout=Layout(height='25px', width='50%'),…"
      ]
     },
     "metadata": {},
     "output_type": "display_data"
    },
    {
     "name": "stdout",
     "output_type": "stream",
     "text": [
      "+---------+-------------------+--------------------+---------+\n",
      "|   nconst|        primaryName|   primaryProfession|birthYear|\n",
      "+---------+-------------------+--------------------+---------+\n",
      "|nm0000001|       Fred Astaire|soundtrack,actor,...|     1899|\n",
      "|nm0000002|      Lauren Bacall|  actress,soundtrack|     1924|\n",
      "|nm0000003|    Brigitte Bardot|actress,soundtrac...|     1934|\n",
      "|nm0000004|       John Belushi|actor,soundtrack,...|     1949|\n",
      "|nm0000005|     Ingmar Bergman|writer,director,a...|     1918|\n",
      "|nm0000006|     Ingrid Bergman|actress,soundtrac...|     1915|\n",
      "|nm0000007|    Humphrey Bogart|actor,soundtrack,...|     1899|\n",
      "|nm0000008|      Marlon Brando|actor,soundtrack,...|     1924|\n",
      "|nm0000009|     Richard Burton|actor,soundtrack,...|     1925|\n",
      "|nm0000010|       James Cagney|actor,soundtrack,...|     1899|\n",
      "|nm0000011|        Gary Cooper|actor,soundtrack,...|     1901|\n",
      "|nm0000012|        Bette Davis|actress,soundtrac...|     1908|\n",
      "|nm0000013|          Doris Day|soundtrack,actres...|     1922|\n",
      "|nm0000014|Olivia de Havilland|  actress,soundtrack|     1916|\n",
      "|nm0000015|         James Dean| actor,miscellaneous|     1931|\n",
      "+---------+-------------------+--------------------+---------+\n",
      "only showing top 15 rows"
     ]
    }
   ],
   "source": [
    "df1.createOrReplaceTempView('Name_Basics')\n",
    "spark.sql('''SELECT `nconst`, `primaryName`, `primaryProfession`, `birthYear` \n",
    "            FROM Name_Basics''').show(15)"
   ]
  },
  {
   "cell_type": "markdown",
   "id": "65371453",
   "metadata": {},
   "source": [
    "## Title Basics"
   ]
  },
  {
   "cell_type": "markdown",
   "id": "b95d8c5a",
   "metadata": {},
   "source": [
    "Display the first 5 rows with the following columns:\n",
    "    \n",
    "* `tconst`    \n",
    "* `titleType`\n",
    "* `primaryTitle`\n",
    "* `genres`"
   ]
  },
  {
   "cell_type": "code",
   "execution_count": 41,
   "id": "74c95177",
   "metadata": {
    "execution": {
     "iopub.execute_input": "2024-12-09T22:13:50.331060Z",
     "iopub.status.busy": "2024-12-09T22:13:50.330687Z",
     "iopub.status.idle": "2024-12-09T22:13:51.076848Z",
     "shell.execute_reply": "2024-12-09T22:13:51.075991Z",
     "shell.execute_reply.started": "2024-12-09T22:13:50.331021Z"
    },
    "tags": []
   },
   "outputs": [
    {
     "data": {
      "application/vnd.jupyter.widget-view+json": {
       "model_id": "cf3d2848943c448dbf45546789ba45f7",
       "version_major": 2,
       "version_minor": 0
      },
      "text/plain": [
       "VBox()"
      ]
     },
     "metadata": {},
     "output_type": "display_data"
    },
    {
     "data": {
      "application/vnd.jupyter.widget-view+json": {
       "model_id": "",
       "version_major": 2,
       "version_minor": 0
      },
      "text/plain": [
       "FloatProgress(value=0.0, bar_style='info', description='Progress:', layout=Layout(height='25px', width='50%'),…"
      ]
     },
     "metadata": {},
     "output_type": "display_data"
    },
    {
     "name": "stdout",
     "output_type": "stream",
     "text": [
      "+---------+---------+--------------------+--------------------+\n",
      "|   tconst|titleType|        primaryTitle|              genres|\n",
      "+---------+---------+--------------------+--------------------+\n",
      "|tt0000001|    short|          Carmencita|   Documentary,Short|\n",
      "|tt0000002|    short|Le clown et ses c...|     Animation,Short|\n",
      "|tt0000003|    short|      Pauvre Pierrot|Animation,Comedy,...|\n",
      "|tt0000004|    short|         Un bon bock|     Animation,Short|\n",
      "|tt0000005|    short|    Blacksmith Scene|        Comedy,Short|\n",
      "+---------+---------+--------------------+--------------------+\n",
      "only showing top 5 rows"
     ]
    }
   ],
   "source": [
    "df2.createOrReplaceTempView('Title_Basics')\n",
    "spark.sql('''SELECT `tconst`, `titleType`, `primaryTitle`, `genres` \n",
    "            FROM Title_Basics''').show(5)"
   ]
  },
  {
   "cell_type": "markdown",
   "id": "f3852bb4",
   "metadata": {},
   "source": [
    "Display the unique title types below:"
   ]
  },
  {
   "cell_type": "code",
   "execution_count": 8,
   "id": "b37dc54c-2110-4070-b700-49c41db5f452",
   "metadata": {
    "execution": {
     "iopub.execute_input": "2024-12-09T19:04:04.757031Z",
     "iopub.status.busy": "2024-12-09T19:04:04.756677Z",
     "iopub.status.idle": "2024-12-09T19:04:18.053453Z",
     "shell.execute_reply": "2024-12-09T19:04:18.052738Z",
     "shell.execute_reply.started": "2024-12-09T19:04:04.756995Z"
    },
    "tags": []
   },
   "outputs": [
    {
     "data": {
      "application/vnd.jupyter.widget-view+json": {
       "model_id": "82116f16bc0d45b79560deb41e52f0e5",
       "version_major": 2,
       "version_minor": 0
      },
      "text/plain": [
       "VBox()"
      ]
     },
     "metadata": {},
     "output_type": "display_data"
    },
    {
     "data": {
      "application/vnd.jupyter.widget-view+json": {
       "model_id": "",
       "version_major": 2,
       "version_minor": 0
      },
      "text/plain": [
       "FloatProgress(value=0.0, bar_style='info', description='Progress:', layout=Layout(height='25px', width='50%'),…"
      ]
     },
     "metadata": {},
     "output_type": "display_data"
    },
    {
     "name": "stdout",
     "output_type": "stream",
     "text": [
      "+------------+\n",
      "|titleType   |\n",
      "+------------+\n",
      "|tvSeries    |\n",
      "|tvMiniSeries|\n",
      "|movie       |\n",
      "|videoGame   |\n",
      "|tvSpecial   |\n",
      "|video       |\n",
      "|tvMovie     |\n",
      "|tvEpisode   |\n",
      "|tvShort     |\n",
      "|short       |\n",
      "|tvPilot     |\n",
      "+------------+"
     ]
    }
   ],
   "source": [
    "df2.select(\"titleType\").distinct().show(truncate=False)"
   ]
  },
  {
   "cell_type": "markdown",
   "id": "d8f3c92f",
   "metadata": {},
   "source": [
    "Display the schema below:"
   ]
  },
  {
   "cell_type": "code",
   "execution_count": 9,
   "id": "8334d2fe",
   "metadata": {
    "execution": {
     "iopub.execute_input": "2024-12-09T19:04:18.056956Z",
     "iopub.status.busy": "2024-12-09T19:04:18.056599Z",
     "iopub.status.idle": "2024-12-09T19:04:18.102518Z",
     "shell.execute_reply": "2024-12-09T19:04:18.101738Z",
     "shell.execute_reply.started": "2024-12-09T19:04:18.056917Z"
    },
    "tags": []
   },
   "outputs": [
    {
     "data": {
      "application/vnd.jupyter.widget-view+json": {
       "model_id": "3fd9bb7eb339414e8f74c5ccede1bdb2",
       "version_major": 2,
       "version_minor": 0
      },
      "text/plain": [
       "VBox()"
      ]
     },
     "metadata": {},
     "output_type": "display_data"
    },
    {
     "data": {
      "application/vnd.jupyter.widget-view+json": {
       "model_id": "",
       "version_major": 2,
       "version_minor": 0
      },
      "text/plain": [
       "FloatProgress(value=0.0, bar_style='info', description='Progress:', layout=Layout(height='25px', width='50%'),…"
      ]
     },
     "metadata": {},
     "output_type": "display_data"
    },
    {
     "name": "stdout",
     "output_type": "stream",
     "text": [
      "root\n",
      " |-- tconst: string (nullable = true)\n",
      " |-- titleType: string (nullable = true)\n",
      " |-- primaryTitle: string (nullable = true)\n",
      " |-- originalTitle: string (nullable = true)\n",
      " |-- isAdult: string (nullable = true)\n",
      " |-- startYear: string (nullable = true)\n",
      " |-- endYear: string (nullable = true)\n",
      " |-- runtimeMinutes: string (nullable = true)\n",
      " |-- genres: string (nullable = true)"
     ]
    }
   ],
   "source": [
    "df2.printSchema()"
   ]
  },
  {
   "cell_type": "markdown",
   "id": "4472d6ef-ddc2-4211-a29a-a5f408950963",
   "metadata": {},
   "source": [
    "Remove the 'originalTitle' from the dataframe and display the schema to verify it."
   ]
  },
  {
   "cell_type": "code",
   "execution_count": 10,
   "id": "469f9978-12f2-47bb-91a1-71b47b53d2dd",
   "metadata": {
    "execution": {
     "iopub.execute_input": "2024-12-09T19:04:18.106155Z",
     "iopub.status.busy": "2024-12-09T19:04:18.105623Z",
     "iopub.status.idle": "2024-12-09T19:04:18.360998Z",
     "shell.execute_reply": "2024-12-09T19:04:18.360216Z",
     "shell.execute_reply.started": "2024-12-09T19:04:18.106115Z"
    },
    "tags": []
   },
   "outputs": [
    {
     "data": {
      "application/vnd.jupyter.widget-view+json": {
       "model_id": "274526aecb3345babe003b639cd8f4d3",
       "version_major": 2,
       "version_minor": 0
      },
      "text/plain": [
       "VBox()"
      ]
     },
     "metadata": {},
     "output_type": "display_data"
    },
    {
     "data": {
      "application/vnd.jupyter.widget-view+json": {
       "model_id": "",
       "version_major": 2,
       "version_minor": 0
      },
      "text/plain": [
       "FloatProgress(value=0.0, bar_style='info', description='Progress:', layout=Layout(height='25px', width='50%'),…"
      ]
     },
     "metadata": {},
     "output_type": "display_data"
    },
    {
     "name": "stdout",
     "output_type": "stream",
     "text": [
      "root\n",
      " |-- tconst: string (nullable = true)\n",
      " |-- titleType: string (nullable = true)\n",
      " |-- primaryTitle: string (nullable = true)\n",
      " |-- isAdult: string (nullable = true)\n",
      " |-- startYear: string (nullable = true)\n",
      " |-- endYear: string (nullable = true)\n",
      " |-- runtimeMinutes: string (nullable = true)\n",
      " |-- genres: string (nullable = true)"
     ]
    }
   ],
   "source": [
    "df2.drop('originalTitle').printSchema()"
   ]
  },
  {
   "cell_type": "markdown",
   "id": "bf21e1b7",
   "metadata": {},
   "source": [
    "## Title Principles"
   ]
  },
  {
   "cell_type": "markdown",
   "id": "442830b8",
   "metadata": {},
   "source": [
    "Display the schema below:"
   ]
  },
  {
   "cell_type": "code",
   "execution_count": 11,
   "id": "b7241872",
   "metadata": {
    "execution": {
     "iopub.execute_input": "2024-12-09T19:04:18.367852Z",
     "iopub.status.busy": "2024-12-09T19:04:18.367574Z",
     "iopub.status.idle": "2024-12-09T19:04:18.414797Z",
     "shell.execute_reply": "2024-12-09T19:04:18.414005Z",
     "shell.execute_reply.started": "2024-12-09T19:04:18.367827Z"
    },
    "tags": []
   },
   "outputs": [
    {
     "data": {
      "application/vnd.jupyter.widget-view+json": {
       "model_id": "0ddcf621fd1d4a5e88a2a2632e8678a4",
       "version_major": 2,
       "version_minor": 0
      },
      "text/plain": [
       "VBox()"
      ]
     },
     "metadata": {},
     "output_type": "display_data"
    },
    {
     "data": {
      "application/vnd.jupyter.widget-view+json": {
       "model_id": "",
       "version_major": 2,
       "version_minor": 0
      },
      "text/plain": [
       "FloatProgress(value=0.0, bar_style='info', description='Progress:', layout=Layout(height='25px', width='50%'),…"
      ]
     },
     "metadata": {},
     "output_type": "display_data"
    },
    {
     "name": "stdout",
     "output_type": "stream",
     "text": [
      "root\n",
      " |-- tconst: string (nullable = true)\n",
      " |-- ordering: integer (nullable = true)\n",
      " |-- nconst: string (nullable = true)\n",
      " |-- category: string (nullable = true)\n",
      " |-- job: string (nullable = true)\n",
      " |-- characters: string (nullable = true)"
     ]
    }
   ],
   "source": [
    "df3.printSchema()"
   ]
  },
  {
   "cell_type": "markdown",
   "id": "e24870d3",
   "metadata": {},
   "source": [
    "Display the first 15 rows where the \"category\" column is \"producer\""
   ]
  },
  {
   "cell_type": "code",
   "execution_count": 42,
   "id": "3f6dbef1",
   "metadata": {
    "execution": {
     "iopub.execute_input": "2024-12-09T22:14:25.975895Z",
     "iopub.status.busy": "2024-12-09T22:14:25.975553Z",
     "iopub.status.idle": "2024-12-09T22:14:26.721735Z",
     "shell.execute_reply": "2024-12-09T22:14:26.720976Z",
     "shell.execute_reply.started": "2024-12-09T22:14:25.975868Z"
    },
    "tags": []
   },
   "outputs": [
    {
     "data": {
      "application/vnd.jupyter.widget-view+json": {
       "model_id": "18c252ff0c734717ab7efd59b241fa81",
       "version_major": 2,
       "version_minor": 0
      },
      "text/plain": [
       "VBox()"
      ]
     },
     "metadata": {},
     "output_type": "display_data"
    },
    {
     "data": {
      "application/vnd.jupyter.widget-view+json": {
       "model_id": "",
       "version_major": 2,
       "version_minor": 0
      },
      "text/plain": [
       "FloatProgress(value=0.0, bar_style='info', description='Progress:', layout=Layout(height='25px', width='50%'),…"
      ]
     },
     "metadata": {},
     "output_type": "display_data"
    },
    {
     "name": "stdout",
     "output_type": "stream",
     "text": [
      "+---------+--------+---------+--------+--------+----------+\n",
      "|   tconst|ordering|   nconst|category|     job|characters|\n",
      "+---------+--------+---------+--------+--------+----------+\n",
      "|tt0000003|       2|nm1770680|producer|producer|        \\N|\n",
      "|tt0000005|       4|nm0249379|producer|producer|        \\N|\n",
      "|tt0000007|       5|nm0249379|producer|producer|        \\N|\n",
      "|tt0000020|       2|nm0666972|producer|producer|        \\N|\n",
      "|tt0000024|       4|nm0666972|producer|producer|        \\N|\n",
      "|tt0000025|       2|nm0666972|producer|producer|        \\N|\n",
      "|tt0000039|       1|nm0666972|producer|producer|        \\N|\n",
      "|tt0000041|       2|nm0525908|producer|producer|        \\N|\n",
      "|tt0000061|       3|nm0666972|producer|producer|        \\N|\n",
      "|tt0000089|       3|nm0525910|producer|producer|        \\N|\n",
      "|tt0000104|       1|nm0525910|producer|producer|        \\N|\n",
      "|tt0000121|       5|nm0666972|producer|producer|        \\N|\n",
      "|tt0000125|       1|nm0666972|producer|producer|        \\N|\n",
      "|tt0000147|       6|nm0103755|producer|producer|        \\N|\n",
      "|tt0000160|       2|nm0666972|producer|producer|        \\N|\n",
      "+---------+--------+---------+--------+--------+----------+\n",
      "only showing top 15 rows"
     ]
    }
   ],
   "source": [
    "df3.createOrReplaceTempView('Category_Producer')\n",
    "spark.sql('''SELECT * \n",
    "            FROM Category_Producer\n",
    "            WHERE category='producer' ''').show(15)"
   ]
  },
  {
   "cell_type": "markdown",
   "id": "d8e128fc",
   "metadata": {},
   "source": [
    "## Title Ratings"
   ]
  },
  {
   "cell_type": "markdown",
   "id": "c40d60cd",
   "metadata": {},
   "source": [
    "Display the schema below:"
   ]
  },
  {
   "cell_type": "code",
   "execution_count": 13,
   "id": "1ed78395",
   "metadata": {
    "execution": {
     "iopub.execute_input": "2024-12-09T19:04:19.174300Z",
     "iopub.status.busy": "2024-12-09T19:04:19.174042Z",
     "iopub.status.idle": "2024-12-09T19:04:19.221138Z",
     "shell.execute_reply": "2024-12-09T19:04:19.220181Z",
     "shell.execute_reply.started": "2024-12-09T19:04:19.174275Z"
    },
    "tags": []
   },
   "outputs": [
    {
     "data": {
      "application/vnd.jupyter.widget-view+json": {
       "model_id": "3a46953ff0a1425bac0b81adf3a30576",
       "version_major": 2,
       "version_minor": 0
      },
      "text/plain": [
       "VBox()"
      ]
     },
     "metadata": {},
     "output_type": "display_data"
    },
    {
     "data": {
      "application/vnd.jupyter.widget-view+json": {
       "model_id": "",
       "version_major": 2,
       "version_minor": 0
      },
      "text/plain": [
       "FloatProgress(value=0.0, bar_style='info', description='Progress:', layout=Layout(height='25px', width='50%'),…"
      ]
     },
     "metadata": {},
     "output_type": "display_data"
    },
    {
     "name": "stdout",
     "output_type": "stream",
     "text": [
      "root\n",
      " |-- tconst: string (nullable = true)\n",
      " |-- averageRating: double (nullable = true)\n",
      " |-- numVotes: integer (nullable = true)"
     ]
    }
   ],
   "source": [
    "df4.printSchema()"
   ]
  },
  {
   "cell_type": "markdown",
   "id": "76ac1ac7",
   "metadata": {},
   "source": [
    "Display the first 10 rows in a descending order by the number of votes"
   ]
  },
  {
   "cell_type": "code",
   "execution_count": 43,
   "id": "9f663e07",
   "metadata": {
    "execution": {
     "iopub.execute_input": "2024-12-09T22:14:46.155780Z",
     "iopub.status.busy": "2024-12-09T22:14:46.155470Z",
     "iopub.status.idle": "2024-12-09T22:14:48.412539Z",
     "shell.execute_reply": "2024-12-09T22:14:48.411870Z",
     "shell.execute_reply.started": "2024-12-09T22:14:46.155755Z"
    },
    "tags": []
   },
   "outputs": [
    {
     "data": {
      "application/vnd.jupyter.widget-view+json": {
       "model_id": "1ea3a3b63a9d4cf38c6fadbf5549c6d1",
       "version_major": 2,
       "version_minor": 0
      },
      "text/plain": [
       "VBox()"
      ]
     },
     "metadata": {},
     "output_type": "display_data"
    },
    {
     "data": {
      "application/vnd.jupyter.widget-view+json": {
       "model_id": "",
       "version_major": 2,
       "version_minor": 0
      },
      "text/plain": [
       "FloatProgress(value=0.0, bar_style='info', description='Progress:', layout=Layout(height='25px', width='50%'),…"
      ]
     },
     "metadata": {},
     "output_type": "display_data"
    },
    {
     "name": "stdout",
     "output_type": "stream",
     "text": [
      "+---------+-------------+--------+\n",
      "|   tconst|averageRating|numVotes|\n",
      "+---------+-------------+--------+\n",
      "|tt0111161|          9.3| 2868594|\n",
      "|tt0468569|          9.0| 2850372|\n",
      "|tt1375666|          8.8| 2531543|\n",
      "|tt0137523|          8.8| 2303989|\n",
      "|tt0944947|          9.2| 2265760|\n",
      "|tt0109830|          8.8| 2239746|\n",
      "|tt0110912|          8.9| 2203191|\n",
      "|tt0903747|          9.5| 2114358|\n",
      "|tt0816692|          8.7| 2073181|\n",
      "|tt0133093|          8.7| 2038364|\n",
      "+---------+-------------+--------+\n",
      "only showing top 10 rows"
     ]
    }
   ],
   "source": [
    "df4.createOrReplaceTempView('dscorder')\n",
    "spark.sql('''SELECT * \n",
    "            FROM dscorder\n",
    "            ORDER BY numVotes DESC''').show(10)"
   ]
  },
  {
   "cell_type": "markdown",
   "id": "e77cf460",
   "metadata": {},
   "source": [
    "# Overview of Data"
   ]
  },
  {
   "cell_type": "markdown",
   "id": "2bc943bf",
   "metadata": {},
   "source": [
    "Display the number of rows and columns in each dataFrame object."
   ]
  },
  {
   "cell_type": "code",
   "execution_count": 15,
   "id": "15b35f7a",
   "metadata": {
    "execution": {
     "iopub.execute_input": "2024-12-09T19:04:21.515680Z",
     "iopub.status.busy": "2024-12-09T19:04:21.515228Z",
     "iopub.status.idle": "2024-12-09T19:04:50.947509Z",
     "shell.execute_reply": "2024-12-09T19:04:50.946539Z",
     "shell.execute_reply.started": "2024-12-09T19:04:21.515636Z"
    },
    "tags": []
   },
   "outputs": [
    {
     "data": {
      "application/vnd.jupyter.widget-view+json": {
       "model_id": "78bba4d658de46538ab4115b30f85310",
       "version_major": 2,
       "version_minor": 0
      },
      "text/plain": [
       "VBox()"
      ]
     },
     "metadata": {},
     "output_type": "display_data"
    },
    {
     "data": {
      "application/vnd.jupyter.widget-view+json": {
       "model_id": "",
       "version_major": 2,
       "version_minor": 0
      },
      "text/plain": [
       "FloatProgress(value=0.0, bar_style='info', description='Progress:', layout=Layout(height='25px', width='50%'),…"
      ]
     },
     "metadata": {},
     "output_type": "display_data"
    },
    {
     "name": "stdout",
     "output_type": "stream",
     "text": [
      "Number of columns in Name Basics table: 6\n",
      "Number of rows in Name Basics table: 13329316\n",
      "\n",
      "Number of columns in Title Basics table: 9\n",
      "Number of rows in Title Basics table: 10613322\n",
      "\n",
      "Number of columns in Title Principles table: 6\n",
      "Number of rows in Title Principles table: 60833800\n",
      "\n",
      "Number of columns in Title Ratings table: 3\n",
      "Number of rows in Title Ratings table: 1412275"
     ]
    }
   ],
   "source": [
    "print(f\"Number of columns in Name Basics table: {len(df1.columns)}\")\n",
    "print(f\"Number of rows in Name Basics table: {df1.count()}\\n\")\n",
    "\n",
    "print(f\"Number of columns in Title Basics table: {len(df2.columns)}\")\n",
    "print(f\"Number of rows in Title Basics table: {df2.count()}\\n\")\n",
    "\n",
    "print(f\"Number of columns in Title Principles table: {len(df3.columns)}\")\n",
    "print(f\"Number of rows in Title Principles table: {df3.count()}\\n\")\n",
    "\n",
    "print(f\"Number of columns in Title Ratings table: {len(df4.columns)}\")\n",
    "print(f\"Number of rows in Title Ratings table: {df4.count()}\\n\")"
   ]
  },
  {
   "cell_type": "markdown",
   "id": "b45c87a7",
   "metadata": {},
   "source": [
    "# PART 2 - Analyzing Movie Genres"
   ]
  },
  {
   "cell_type": "markdown",
   "id": "37c839bd",
   "metadata": {},
   "source": [
    "Let's now answer this question: how many unique movie genres are represented in this dataset?\n",
    "\n",
    "Essentially, we have the genres per movie as a list - this is useful to quickly see what each movie might be represented as but it is difficult to easily answer questions such as:\n",
    "\n",
    "* How many movies are categorized as Comedy, for instance?\n",
    "* What are the top 20 most popular genres available?"
   ]
  },
  {
   "cell_type": "markdown",
   "id": "509eb185",
   "metadata": {},
   "source": [
    "## Association Table\n",
    "\n",
    "We need to \"break out\" these genres from the tconst? One common approach to take is to build an association table mapping a single tconst multiple times to each distinct genre.\n",
    "\n",
    "For instance, given the following:\n",
    "\n",
    "\n",
    "| tconst   | titleType  |genres |\n",
    "|----------|------------|-------|\n",
    "| abcd123  | XXX        |a,b,c  |\n",
    "\n",
    "We would like to derive something like:\n",
    "\n",
    "| tconst   |  titleType |genre |\n",
    "|----------|------------|------|\n",
    "| abcd123  | XXX        |a     |\n",
    "| abcd123  | XXX        |b     |\n",
    "| abcd123  | XXX        |c     |\n",
    "\n",
    "\n",
    "What this does is allow us to then perform a myriad of rollups and other analysis on this association table which can aid us in answering the questions asked above.\n",
    "\n",
    "Implement the code necessary to derive the table described from the data set"
   ]
  },
  {
   "cell_type": "code",
   "execution_count": 44,
   "id": "6da24c15",
   "metadata": {
    "execution": {
     "iopub.execute_input": "2024-12-09T22:15:11.124434Z",
     "iopub.status.busy": "2024-12-09T22:15:11.124123Z",
     "iopub.status.idle": "2024-12-09T22:15:11.367135Z",
     "shell.execute_reply": "2024-12-09T22:15:11.366308Z",
     "shell.execute_reply.started": "2024-12-09T22:15:11.124408Z"
    },
    "tags": []
   },
   "outputs": [
    {
     "data": {
      "application/vnd.jupyter.widget-view+json": {
       "model_id": "2fde845e42db41c69dcfa6960c033072",
       "version_major": 2,
       "version_minor": 0
      },
      "text/plain": [
       "VBox()"
      ]
     },
     "metadata": {},
     "output_type": "display_data"
    },
    {
     "data": {
      "application/vnd.jupyter.widget-view+json": {
       "model_id": "",
       "version_major": 2,
       "version_minor": 0
      },
      "text/plain": [
       "FloatProgress(value=0.0, bar_style='info', description='Progress:', layout=Layout(height='25px', width='50%'),…"
      ]
     },
     "metadata": {},
     "output_type": "display_data"
    },
    {
     "name": "stdout",
     "output_type": "stream",
     "text": [
      "+---------+---------+--------------------+\n",
      "|   tconst|titleType|              genres|\n",
      "+---------+---------+--------------------+\n",
      "|tt0000001|    short|   Documentary,Short|\n",
      "|tt0000002|    short|     Animation,Short|\n",
      "|tt0000003|    short|Animation,Comedy,...|\n",
      "|tt0000004|    short|     Animation,Short|\n",
      "|tt0000005|    short|        Comedy,Short|\n",
      "|tt0000006|    short|               Short|\n",
      "|tt0000007|    short|         Short,Sport|\n",
      "|tt0000008|    short|   Documentary,Short|\n",
      "|tt0000009|    movie|             Romance|\n",
      "|tt0000010|    short|   Documentary,Short|\n",
      "|tt0000011|    short|   Documentary,Short|\n",
      "|tt0000012|    short|   Documentary,Short|\n",
      "|tt0000013|    short|   Documentary,Short|\n",
      "|tt0000014|    short|        Comedy,Short|\n",
      "|tt0000015|    short|     Animation,Short|\n",
      "+---------+---------+--------------------+\n",
      "only showing top 15 rows"
     ]
    }
   ],
   "source": [
    "df2.createOrReplaceTempView('table1')\n",
    "spark.sql('''SELECT `tconst`, `titleType`, `genres` \n",
    "            FROM table1''').show(15)\n"
   ]
  },
  {
   "cell_type": "markdown",
   "id": "847b5aef-391c-4e3a-bccd-8946054e2bfe",
   "metadata": {},
   "source": [
    "Display the first 25 rows of your association table below"
   ]
  },
  {
   "cell_type": "code",
   "execution_count": 17,
   "id": "eee1cc98",
   "metadata": {
    "execution": {
     "iopub.execute_input": "2024-12-09T19:04:51.219686Z",
     "iopub.status.busy": "2024-12-09T19:04:51.219314Z",
     "iopub.status.idle": "2024-12-09T19:04:51.997425Z",
     "shell.execute_reply": "2024-12-09T19:04:51.996235Z",
     "shell.execute_reply.started": "2024-12-09T19:04:51.219644Z"
    },
    "tags": []
   },
   "outputs": [
    {
     "data": {
      "application/vnd.jupyter.widget-view+json": {
       "model_id": "3bcee50be47048cb92f135d0ecf51ffd",
       "version_major": 2,
       "version_minor": 0
      },
      "text/plain": [
       "VBox()"
      ]
     },
     "metadata": {},
     "output_type": "display_data"
    },
    {
     "data": {
      "application/vnd.jupyter.widget-view+json": {
       "model_id": "",
       "version_major": 2,
       "version_minor": 0
      },
      "text/plain": [
       "FloatProgress(value=0.0, bar_style='info', description='Progress:', layout=Layout(height='25px', width='50%'),…"
      ]
     },
     "metadata": {},
     "output_type": "display_data"
    },
    {
     "name": "stdout",
     "output_type": "stream",
     "text": [
      "+---------+---------+-----------+\n",
      "|tconst   |titleType|genre      |\n",
      "+---------+---------+-----------+\n",
      "|tt0000001|short    |Documentary|\n",
      "|tt0000001|short    |Short      |\n",
      "|tt0000002|short    |Animation  |\n",
      "|tt0000002|short    |Short      |\n",
      "|tt0000003|short    |Animation  |\n",
      "|tt0000003|short    |Comedy     |\n",
      "|tt0000003|short    |Romance    |\n",
      "|tt0000004|short    |Animation  |\n",
      "|tt0000004|short    |Short      |\n",
      "|tt0000005|short    |Comedy     |\n",
      "|tt0000005|short    |Short      |\n",
      "|tt0000006|short    |Short      |\n",
      "|tt0000007|short    |Short      |\n",
      "|tt0000007|short    |Sport      |\n",
      "|tt0000008|short    |Documentary|\n",
      "|tt0000008|short    |Short      |\n",
      "|tt0000009|movie    |Romance    |\n",
      "|tt0000010|short    |Documentary|\n",
      "|tt0000010|short    |Short      |\n",
      "|tt0000011|short    |Documentary|\n",
      "|tt0000011|short    |Short      |\n",
      "|tt0000012|short    |Documentary|\n",
      "|tt0000012|short    |Short      |\n",
      "|tt0000013|short    |Documentary|\n",
      "|tt0000013|short    |Short      |\n",
      "+---------+---------+-----------+\n",
      "only showing top 25 rows"
     ]
    }
   ],
   "source": [
    "from pyspark.sql.functions import col, split, explode\n",
    "newdf2 = df2.withColumn(\"genre\", explode(split(df2[\"genres\"], \",\")))\n",
    "newdf2.select(\"tconst\", \"titleType\", \"genre\").show(25, truncate=False)"
   ]
  },
  {
   "cell_type": "markdown",
   "id": "9a80280d",
   "metadata": {},
   "source": [
    "## Total Unique Movie Genres"
   ]
  },
  {
   "cell_type": "markdown",
   "id": "b0db9e0c",
   "metadata": {},
   "source": [
    "What is the total number of unique movie genres?"
   ]
  },
  {
   "cell_type": "code",
   "execution_count": 18,
   "id": "c6044252",
   "metadata": {
    "execution": {
     "iopub.execute_input": "2024-12-09T19:04:52.004091Z",
     "iopub.status.busy": "2024-12-09T19:04:52.003250Z",
     "iopub.status.idle": "2024-12-09T19:05:07.358157Z",
     "shell.execute_reply": "2024-12-09T19:05:07.357201Z",
     "shell.execute_reply.started": "2024-12-09T19:04:52.004035Z"
    },
    "tags": []
   },
   "outputs": [
    {
     "data": {
      "application/vnd.jupyter.widget-view+json": {
       "model_id": "26ab3ad0fceb415a8f95845b5e9c67ea",
       "version_major": 2,
       "version_minor": 0
      },
      "text/plain": [
       "VBox()"
      ]
     },
     "metadata": {},
     "output_type": "display_data"
    },
    {
     "data": {
      "application/vnd.jupyter.widget-view+json": {
       "model_id": "",
       "version_major": 2,
       "version_minor": 0
      },
      "text/plain": [
       "FloatProgress(value=0.0, bar_style='info', description='Progress:', layout=Layout(height='25px', width='50%'),…"
      ]
     },
     "metadata": {},
     "output_type": "display_data"
    },
    {
     "name": "stdout",
     "output_type": "stream",
     "text": [
      "29"
     ]
    }
   ],
   "source": [
    "from pyspark.sql.functions import countDistinct\n",
    "df2_2 = newdf2.select(countDistinct(\"genre\")).collect()[0][0]\n",
    "print(df2_2)"
   ]
  },
  {
   "cell_type": "markdown",
   "id": "5819adcc",
   "metadata": {},
   "source": [
    "What are the unique movie genres?"
   ]
  },
  {
   "cell_type": "code",
   "execution_count": 19,
   "id": "2ecdf3ad",
   "metadata": {
    "execution": {
     "iopub.execute_input": "2024-12-09T19:05:07.362275Z",
     "iopub.status.busy": "2024-12-09T19:05:07.361920Z",
     "iopub.status.idle": "2024-12-09T19:05:20.660553Z",
     "shell.execute_reply": "2024-12-09T19:05:20.659626Z",
     "shell.execute_reply.started": "2024-12-09T19:05:07.362236Z"
    },
    "tags": []
   },
   "outputs": [
    {
     "data": {
      "application/vnd.jupyter.widget-view+json": {
       "model_id": "cb84c98c69e8418f878b2bf63362539c",
       "version_major": 2,
       "version_minor": 0
      },
      "text/plain": [
       "VBox()"
      ]
     },
     "metadata": {},
     "output_type": "display_data"
    },
    {
     "data": {
      "application/vnd.jupyter.widget-view+json": {
       "model_id": "",
       "version_major": 2,
       "version_minor": 0
      },
      "text/plain": [
       "FloatProgress(value=0.0, bar_style='info', description='Progress:', layout=Layout(height='25px', width='50%'),…"
      ]
     },
     "metadata": {},
     "output_type": "display_data"
    },
    {
     "name": "stdout",
     "output_type": "stream",
     "text": [
      "+-----------+\n",
      "|genre      |\n",
      "+-----------+\n",
      "|Mystery    |\n",
      "|Musical    |\n",
      "|Sport      |\n",
      "|Action     |\n",
      "|Talk-Show  |\n",
      "|Romance    |\n",
      "|Thriller   |\n",
      "|\\N         |\n",
      "|Reality-TV |\n",
      "|Family     |\n",
      "|Fantasy    |\n",
      "|History    |\n",
      "|Animation  |\n",
      "|Film-Noir  |\n",
      "|Short      |\n",
      "|Sci-Fi     |\n",
      "|News       |\n",
      "|Drama      |\n",
      "|Documentary|\n",
      "|Western    |\n",
      "|Comedy     |\n",
      "|Crime      |\n",
      "|War        |\n",
      "|Game-Show  |\n",
      "|Adult      |\n",
      "|Music      |\n",
      "|Biography  |\n",
      "|Adventure  |\n",
      "|Horror     |\n",
      "+-----------+"
     ]
    }
   ],
   "source": [
    "newdf2.select(\"genre\").distinct().show(29, truncate=False)"
   ]
  },
  {
   "cell_type": "markdown",
   "id": "4c5f3022",
   "metadata": {},
   "source": [
    "Oops! Something is off!"
   ]
  },
  {
   "cell_type": "code",
   "execution_count": 20,
   "id": "9c1d52f1-b6cb-49e3-95f9-5ebb7fd17a9e",
   "metadata": {
    "execution": {
     "iopub.execute_input": "2024-12-09T19:05:20.663951Z",
     "iopub.status.busy": "2024-12-09T19:05:20.663701Z",
     "iopub.status.idle": "2024-12-09T19:05:33.959948Z",
     "shell.execute_reply": "2024-12-09T19:05:33.958807Z",
     "shell.execute_reply.started": "2024-12-09T19:05:20.663925Z"
    },
    "tags": []
   },
   "outputs": [
    {
     "data": {
      "application/vnd.jupyter.widget-view+json": {
       "model_id": "04b04322581541db872a4bfb3ab893a0",
       "version_major": 2,
       "version_minor": 0
      },
      "text/plain": [
       "VBox()"
      ]
     },
     "metadata": {},
     "output_type": "display_data"
    },
    {
     "data": {
      "application/vnd.jupyter.widget-view+json": {
       "model_id": "",
       "version_major": 2,
       "version_minor": 0
      },
      "text/plain": [
       "FloatProgress(value=0.0, bar_style='info', description='Progress:', layout=Layout(height='25px', width='50%'),…"
      ]
     },
     "metadata": {},
     "output_type": "display_data"
    },
    {
     "name": "stdout",
     "output_type": "stream",
     "text": [
      "+-----------+\n",
      "|genre      |\n",
      "+-----------+\n",
      "|Mystery    |\n",
      "|Musical    |\n",
      "|Sport      |\n",
      "|Action     |\n",
      "|Talk-Show  |\n",
      "|Romance    |\n",
      "|Thriller   |\n",
      "|Reality-TV |\n",
      "|Family     |\n",
      "|Fantasy    |\n",
      "|History    |\n",
      "|Animation  |\n",
      "|Film-Noir  |\n",
      "|Short      |\n",
      "|Sci-Fi     |\n",
      "|News       |\n",
      "|Drama      |\n",
      "|Documentary|\n",
      "|Western    |\n",
      "|Comedy     |\n",
      "|Crime      |\n",
      "|War        |\n",
      "|Game-Show  |\n",
      "|Adult      |\n",
      "|Music      |\n",
      "|Biography  |\n",
      "|Adventure  |\n",
      "|Horror     |\n",
      "+-----------+"
     ]
    }
   ],
   "source": [
    "from pyspark.sql.functions import col\n",
    "newdf2.filter(col(\"genre\") != \"\\\\N\") \\\n",
    "      .select(\"genre\") \\\n",
    "      .distinct() \\\n",
    "      .show(29, truncate=False)"
   ]
  },
  {
   "cell_type": "markdown",
   "id": "b7d29ebd",
   "metadata": {},
   "source": [
    "## Top Genres by Movies\n",
    "\n",
    "Now let's find the highest rated genres in this dataset by rolling up genres."
   ]
  },
  {
   "cell_type": "markdown",
   "id": "de4c28e3",
   "metadata": {},
   "source": [
    "### Average Rating / Genre"
   ]
  },
  {
   "cell_type": "markdown",
   "id": "49f1153c",
   "metadata": {},
   "source": [
    "So now, let's unroll our distinct count a bit and display the per average rating value of per genre.\n",
    "\n",
    "The expected output should be:\n",
    "\n",
    "| genre | averageRating |\n",
    "|-------------|------------|\n",
    "| a     | 8.5         |\n",
    "| b     | 6.3         |\n",
    "| c     | 7.2         |\n",
    "\n",
    "Or something to that effect."
   ]
  },
  {
   "cell_type": "markdown",
   "id": "15423dc6",
   "metadata": {},
   "source": [
    "First, let's join our two dataframes (title ratings and title basics) by tconst. Use inner join."
   ]
  },
  {
   "cell_type": "code",
   "execution_count": 21,
   "id": "71b5d21b",
   "metadata": {
    "execution": {
     "iopub.execute_input": "2024-12-09T19:05:33.964270Z",
     "iopub.status.busy": "2024-12-09T19:05:33.963961Z",
     "iopub.status.idle": "2024-12-09T19:05:49.258794Z",
     "shell.execute_reply": "2024-12-09T19:05:49.257980Z",
     "shell.execute_reply.started": "2024-12-09T19:05:33.964235Z"
    },
    "tags": []
   },
   "outputs": [
    {
     "data": {
      "application/vnd.jupyter.widget-view+json": {
       "model_id": "c97542a1be54446abe0cd4e6c8d8ecea",
       "version_major": 2,
       "version_minor": 0
      },
      "text/plain": [
       "VBox()"
      ]
     },
     "metadata": {},
     "output_type": "display_data"
    },
    {
     "data": {
      "application/vnd.jupyter.widget-view+json": {
       "model_id": "",
       "version_major": 2,
       "version_minor": 0
      },
      "text/plain": [
       "FloatProgress(value=0.0, bar_style='info', description='Progress:', layout=Layout(height='25px', width='50%'),…"
      ]
     },
     "metadata": {},
     "output_type": "display_data"
    },
    {
     "name": "stdout",
     "output_type": "stream",
     "text": [
      "+---------+-------------+\n",
      "|    genre|averageRating|\n",
      "+---------+-------------+\n",
      "|    Drama|          4.2|\n",
      "|    Drama|          4.5|\n",
      "|Biography|          3.6|\n",
      "|    Drama|          3.6|\n",
      "|  History|          3.6|\n",
      "|    Drama|          6.0|\n",
      "|    Drama|          5.0|\n",
      "|  History|          5.0|\n",
      "|Biography|          6.2|\n",
      "|    Drama|          6.2|\n",
      "+---------+-------------+\n",
      "only showing top 10 rows"
     ]
    }
   ],
   "source": [
    "join_table = newdf2.join(df4, on='tconst', how='inner')\n",
    "join_table1 = join_table.filter((col('titleType') == 'movie') & (col('genre') != \"\\\\N\")) \\\n",
    "                        .select('genre', 'averageRating')\n",
    "join_table1.show(10)"
   ]
  },
  {
   "cell_type": "markdown",
   "id": "98094ca8",
   "metadata": {},
   "source": [
    "Now, let's aggregate along the averageRating column to get a resultant dataframe that displays average rating per genre."
   ]
  },
  {
   "cell_type": "code",
   "execution_count": 22,
   "id": "317c522c",
   "metadata": {
    "execution": {
     "iopub.execute_input": "2024-12-09T19:05:49.262399Z",
     "iopub.status.busy": "2024-12-09T19:05:49.261948Z",
     "iopub.status.idle": "2024-12-09T19:06:02.633436Z",
     "shell.execute_reply": "2024-12-09T19:06:02.632606Z",
     "shell.execute_reply.started": "2024-12-09T19:05:49.262361Z"
    },
    "tags": []
   },
   "outputs": [
    {
     "data": {
      "application/vnd.jupyter.widget-view+json": {
       "model_id": "5c962f40acd446f4b2a222edc6673f78",
       "version_major": 2,
       "version_minor": 0
      },
      "text/plain": [
       "VBox()"
      ]
     },
     "metadata": {},
     "output_type": "display_data"
    },
    {
     "data": {
      "application/vnd.jupyter.widget-view+json": {
       "model_id": "",
       "version_major": 2,
       "version_minor": 0
      },
      "text/plain": [
       "FloatProgress(value=0.0, bar_style='info', description='Progress:', layout=Layout(height='25px', width='50%'),…"
      ]
     },
     "metadata": {},
     "output_type": "display_data"
    },
    {
     "name": "stdout",
     "output_type": "stream",
     "text": [
      "+-----------+------+\n",
      "|      genre|Rating|\n",
      "+-----------+------+\n",
      "|    Mystery| 5.847|\n",
      "|    Musical| 6.187|\n",
      "|     Action| 5.732|\n",
      "|      Sport| 6.623|\n",
      "|  Talk-Show| 6.858|\n",
      "|    Romance| 6.102|\n",
      "|   Thriller| 5.613|\n",
      "| Reality-TV| 6.701|\n",
      "|     Family| 6.205|\n",
      "|    Fantasy| 5.898|\n",
      "|    History| 6.798|\n",
      "|  Animation| 6.367|\n",
      "|  Film-Noir| 6.463|\n",
      "|     Sci-Fi| 5.353|\n",
      "|       News| 7.203|\n",
      "|      Drama| 6.248|\n",
      "|Documentary| 7.216|\n",
      "|    Western| 5.840|\n",
      "|     Comedy| 5.906|\n",
      "|      Crime| 5.985|\n",
      "+-----------+------+\n",
      "only showing top 20 rows"
     ]
    }
   ],
   "source": [
    "from pyspark.sql.functions import avg, format_number\n",
    "\n",
    "ratingavg = join_table1.groupBy(\"genre\").agg(format_number(avg(\"averageRating\"), 3).alias(\"Rating\"))\n",
    "ratingavg.show()"
   ]
  },
  {
   "cell_type": "markdown",
   "id": "b1fd4e61",
   "metadata": {},
   "source": [
    "### Horizontal Bar Chart of Top Genres\n",
    "\n",
    "With this data available, let us now build a barchart of all genres \n",
    "\n",
    "**HINT**: don't forget about the matplotlib magic!\n",
    "\n",
    "```\n",
    "%matplot plt\n",
    "```"
   ]
  },
  {
   "cell_type": "code",
   "execution_count": 23,
   "id": "2865ccdb",
   "metadata": {
    "execution": {
     "iopub.execute_input": "2024-12-09T19:06:02.636114Z",
     "iopub.status.busy": "2024-12-09T19:06:02.635913Z",
     "iopub.status.idle": "2024-12-09T19:06:15.955705Z",
     "shell.execute_reply": "2024-12-09T19:06:15.954912Z",
     "shell.execute_reply.started": "2024-12-09T19:06:02.636093Z"
    },
    "tags": []
   },
   "outputs": [
    {
     "data": {
      "application/vnd.jupyter.widget-view+json": {
       "model_id": "8c643ef3af294eb287792e6628ed31ba",
       "version_major": 2,
       "version_minor": 0
      },
      "text/plain": [
       "VBox()"
      ]
     },
     "metadata": {},
     "output_type": "display_data"
    },
    {
     "data": {
      "application/vnd.jupyter.widget-view+json": {
       "model_id": "",
       "version_major": 2,
       "version_minor": 0
      },
      "text/plain": [
       "FloatProgress(value=0.0, bar_style='info', description='Progress:', layout=Layout(height='25px', width='50%'),…"
      ]
     },
     "metadata": {},
     "output_type": "display_data"
    },
    {
     "name": "stdout",
     "output_type": "stream",
     "text": [
      "+-----------+------+\n",
      "|      genre|Rating|\n",
      "+-----------+------+\n",
      "|Documentary| 7.216|\n",
      "|       News| 7.203|\n",
      "|  Biography| 6.951|\n",
      "|  Game-Show|  6.88|\n",
      "|  Talk-Show| 6.858|\n",
      "|    History| 6.798|\n",
      "|      Music| 6.755|\n",
      "| Reality-TV| 6.701|\n",
      "|      Sport| 6.623|\n",
      "|  Film-Noir| 6.463|\n",
      "|        War| 6.403|\n",
      "|  Animation| 6.367|\n",
      "|      Drama| 6.248|\n",
      "|     Family| 6.205|\n",
      "|    Musical| 6.187|\n",
      "|    Romance| 6.102|\n",
      "|      Crime| 5.985|\n",
      "|     Comedy| 5.906|\n",
      "|    Fantasy| 5.898|\n",
      "|  Adventure| 5.866|\n",
      "|    Mystery| 5.847|\n",
      "|    Western|  5.84|\n",
      "|     Action| 5.732|\n",
      "|   Thriller| 5.613|\n",
      "|      Adult| 5.554|\n",
      "|     Sci-Fi| 5.353|\n",
      "|     Horror| 5.002|\n",
      "|      Short|   5.0|\n",
      "+-----------+------+"
     ]
    }
   ],
   "source": [
    "ratingavg.createOrReplaceTempView(\"Top_Genres\")\n",
    "\n",
    "TopGenres_sql = spark.sql('''SELECT genre, AVG(Rating) AS Rating\n",
    "                                FROM Top_Genres\n",
    "                                GROUP BY genre\n",
    "                                ORDER BY Rating DESC''')\n",
    "\n",
    "TopGenres_sql.show(29)"
   ]
  },
  {
   "cell_type": "markdown",
   "id": "42322761-4cc2-47ee-a8a7-a0093a0e955a",
   "metadata": {},
   "source": [
    "You do not have to match the color and the figure size but all other aspects of the graph should be matched."
   ]
  },
  {
   "cell_type": "code",
   "execution_count": 24,
   "id": "4a868d3d",
   "metadata": {
    "execution": {
     "iopub.execute_input": "2024-12-09T19:06:15.961352Z",
     "iopub.status.busy": "2024-12-09T19:06:15.960716Z",
     "iopub.status.idle": "2024-12-09T19:06:31.321837Z",
     "shell.execute_reply": "2024-12-09T19:06:31.320994Z",
     "shell.execute_reply.started": "2024-12-09T19:06:15.961324Z"
    },
    "tags": []
   },
   "outputs": [
    {
     "data": {
      "application/vnd.jupyter.widget-view+json": {
       "model_id": "17047c52b6124058a3473aaf7e7f9c52",
       "version_major": 2,
       "version_minor": 0
      },
      "text/plain": [
       "VBox()"
      ]
     },
     "metadata": {},
     "output_type": "display_data"
    },
    {
     "data": {
      "application/vnd.jupyter.widget-view+json": {
       "model_id": "",
       "version_major": 2,
       "version_minor": 0
      },
      "text/plain": [
       "FloatProgress(value=0.0, bar_style='info', description='Progress:', layout=Layout(height='25px', width='50%'),…"
      ]
     },
     "metadata": {},
     "output_type": "display_data"
    },
    {
     "data": {
      "image/png": "[encoded data removed]",
      "text/plain": [
       "<IPython.core.display.Image object>"
      ]
     },
     "metadata": {},
     "output_type": "display_data"
    }
   ],
   "source": [
    "df = TopGenres_sql.toPandas()\n",
    "df.sort_values(by='Rating').plot.barh(x='genre', y='Rating')\n",
    "plt.title('Top Genres in the Movie Category')\n",
    "plt.xlabel('Rating')\n",
    "plt.ylabel('Genre')\n",
    "plt.xlim(4.5, 7.5)\n",
    "plt.tight_layout()\n",
    "plt.show()\n",
    "\n",
    "%matplot plt"
   ]
  },
  {
   "cell_type": "markdown",
   "id": "3671c612",
   "metadata": {},
   "source": [
    "## PART 3 - Analyzing Job Categories"
   ]
  },
  {
   "cell_type": "markdown",
   "id": "2912a0ba",
   "metadata": {},
   "source": [
    "## Total Unique Job Categories"
   ]
  },
  {
   "cell_type": "markdown",
   "id": "099531c0",
   "metadata": {},
   "source": [
    "What is the total number of unique job categories?"
   ]
  },
  {
   "cell_type": "code",
   "execution_count": 25,
   "id": "bf5ea336",
   "metadata": {
    "execution": {
     "iopub.execute_input": "2024-12-09T19:06:31.324888Z",
     "iopub.status.busy": "2024-12-09T19:06:31.324661Z",
     "iopub.status.idle": "2024-12-09T19:06:31.975340Z",
     "shell.execute_reply": "2024-12-09T19:06:31.968840Z",
     "shell.execute_reply.started": "2024-12-09T19:06:31.324865Z"
    },
    "tags": []
   },
   "outputs": [
    {
     "data": {
      "application/vnd.jupyter.widget-view+json": {
       "model_id": "2a985e6a843d4fb6961a7379c5813ed9",
       "version_major": 2,
       "version_minor": 0
      },
      "text/plain": [
       "VBox()"
      ]
     },
     "metadata": {},
     "output_type": "display_data"
    },
    {
     "data": {
      "application/vnd.jupyter.widget-view+json": {
       "model_id": "",
       "version_major": 2,
       "version_minor": 0
      },
      "text/plain": [
       "FloatProgress(value=0.0, bar_style='info', description='Progress:', layout=Layout(height='25px', width='50%'),…"
      ]
     },
     "metadata": {},
     "output_type": "display_data"
    },
    {
     "name": "stdout",
     "output_type": "stream",
     "text": [
      "+---------+---------------+\n",
      "|   tconst|       category|\n",
      "+---------+---------------+\n",
      "|tt0000001|           self|\n",
      "|tt0000001|       director|\n",
      "|tt0000001|cinematographer|\n",
      "|tt0000002|       director|\n",
      "|tt0000002|       composer|\n",
      "|tt0000003|       director|\n",
      "|tt0000003|       producer|\n",
      "|tt0000003|       composer|\n",
      "|tt0000003|         editor|\n",
      "|tt0000004|       director|\n",
      "|tt0000004|       composer|\n",
      "|tt0000005|          actor|\n",
      "|tt0000005|          actor|\n",
      "|tt0000005|       director|\n",
      "|tt0000005|       producer|\n",
      "|tt0000006|       director|\n",
      "|tt0000007|          actor|\n",
      "|tt0000007|          actor|\n",
      "|tt0000007|       director|\n",
      "|tt0000007|       director|\n",
      "|tt0000007|       producer|\n",
      "|tt0000008|          actor|\n",
      "|tt0000008|       director|\n",
      "|tt0000008|cinematographer|\n",
      "|tt0000009|        actress|\n",
      "|tt0000009|          actor|\n",
      "|tt0000009|          actor|\n",
      "|tt0000009|       director|\n",
      "|tt0000010|       director|\n",
      "|tt0000011|          actor|\n",
      "+---------+---------------+\n",
      "only showing top 30 rows"
     ]
    }
   ],
   "source": [
    "df3.createOrReplaceTempView('Title_Principles')\n",
    "spark.sql('''SELECT tconst, category\n",
    "FROM Title_Principles''').show(30)"
   ]
  },
  {
   "cell_type": "code",
   "execution_count": 26,
   "id": "44203333",
   "metadata": {
    "execution": {
     "iopub.execute_input": "2024-12-09T19:06:31.979306Z",
     "iopub.status.busy": "2024-12-09T19:06:31.978971Z",
     "iopub.status.idle": "2024-12-09T19:07:19.361402Z",
     "shell.execute_reply": "2024-12-09T19:07:19.360585Z",
     "shell.execute_reply.started": "2024-12-09T19:06:31.979271Z"
    },
    "tags": []
   },
   "outputs": [
    {
     "data": {
      "application/vnd.jupyter.widget-view+json": {
       "model_id": "ae7767075a064162804c33e0b4ba6b31",
       "version_major": 2,
       "version_minor": 0
      },
      "text/plain": [
       "VBox()"
      ]
     },
     "metadata": {},
     "output_type": "display_data"
    },
    {
     "data": {
      "application/vnd.jupyter.widget-view+json": {
       "model_id": "",
       "version_major": 2,
       "version_minor": 0
      },
      "text/plain": [
       "FloatProgress(value=0.0, bar_style='info', description='Progress:', layout=Layout(height='25px', width='50%'),…"
      ]
     },
     "metadata": {},
     "output_type": "display_data"
    },
    {
     "name": "stdout",
     "output_type": "stream",
     "text": [
      "12"
     ]
    }
   ],
   "source": [
    "df3.select(\"category\").distinct().count()"
   ]
  },
  {
   "cell_type": "markdown",
   "id": "c3b2f7b4",
   "metadata": {},
   "source": [
    "What are the unique job categories available?"
   ]
  },
  {
   "cell_type": "code",
   "execution_count": 27,
   "id": "e03438b0",
   "metadata": {
    "execution": {
     "iopub.execute_input": "2024-12-09T19:07:19.364279Z",
     "iopub.status.busy": "2024-12-09T19:07:19.364061Z",
     "iopub.status.idle": "2024-12-09T19:08:02.727431Z",
     "shell.execute_reply": "2024-12-09T19:08:02.726558Z",
     "shell.execute_reply.started": "2024-12-09T19:07:19.364257Z"
    },
    "tags": []
   },
   "outputs": [
    {
     "data": {
      "application/vnd.jupyter.widget-view+json": {
       "model_id": "5722332bfe6a4fbca0f20e3280b8a40c",
       "version_major": 2,
       "version_minor": 0
      },
      "text/plain": [
       "VBox()"
      ]
     },
     "metadata": {},
     "output_type": "display_data"
    },
    {
     "data": {
      "application/vnd.jupyter.widget-view+json": {
       "model_id": "",
       "version_major": 2,
       "version_minor": 0
      },
      "text/plain": [
       "FloatProgress(value=0.0, bar_style='info', description='Progress:', layout=Layout(height='25px', width='50%'),…"
      ]
     },
     "metadata": {},
     "output_type": "display_data"
    },
    {
     "name": "stdout",
     "output_type": "stream",
     "text": [
      "+-------------------+\n",
      "|           category|\n",
      "+-------------------+\n",
      "|            actress|\n",
      "|           producer|\n",
      "|production_designer|\n",
      "|             writer|\n",
      "|              actor|\n",
      "|    cinematographer|\n",
      "|      archive_sound|\n",
      "|    archive_footage|\n",
      "|               self|\n",
      "|             editor|\n",
      "|           composer|\n",
      "|           director|\n",
      "+-------------------+"
     ]
    }
   ],
   "source": [
    "df3.select(\"category\").distinct().show()"
   ]
  },
  {
   "cell_type": "markdown",
   "id": "47312540",
   "metadata": {},
   "source": [
    "## Top Job Categories"
   ]
  },
  {
   "cell_type": "markdown",
   "id": "61df21f0",
   "metadata": {},
   "source": [
    "Now let's find the top job categories in this dataset by rolling up categories."
   ]
  },
  {
   "cell_type": "markdown",
   "id": "2d56869a",
   "metadata": {},
   "source": [
    "### Counts of Titles / Job Category"
   ]
  },
  {
   "cell_type": "markdown",
   "id": "ae87af2f",
   "metadata": {},
   "source": [
    "The expected output should be:\n",
    "\n",
    "| category | count |\n",
    "|-------------|------------|\n",
    "| a     | 15         |\n",
    "| b     | 2          |\n",
    "| c     | 45          |\n",
    "\n",
    "Or something to that effect."
   ]
  },
  {
   "cell_type": "code",
   "execution_count": 47,
   "id": "f3d65964",
   "metadata": {
    "execution": {
     "iopub.execute_input": "2024-12-09T22:18:12.709470Z",
     "iopub.status.busy": "2024-12-09T22:18:12.709182Z",
     "iopub.status.idle": "2024-12-09T22:19:06.089671Z",
     "shell.execute_reply": "2024-12-09T22:19:06.088852Z",
     "shell.execute_reply.started": "2024-12-09T22:18:12.709446Z"
    },
    "tags": []
   },
   "outputs": [
    {
     "data": {
      "application/vnd.jupyter.widget-view+json": {
       "model_id": "9c2bab4c184a476a88867c2d45983960",
       "version_major": 2,
       "version_minor": 0
      },
      "text/plain": [
       "VBox()"
      ]
     },
     "metadata": {},
     "output_type": "display_data"
    },
    {
     "data": {
      "application/vnd.jupyter.widget-view+json": {
       "model_id": "",
       "version_major": 2,
       "version_minor": 0
      },
      "text/plain": [
       "FloatProgress(value=0.0, bar_style='info', description='Progress:', layout=Layout(height='25px', width='50%'),…"
      ]
     },
     "metadata": {},
     "output_type": "display_data"
    },
    {
     "name": "stdout",
     "output_type": "stream",
     "text": [
      "+-------------------+--------+\n",
      "|           category|   count|\n",
      "+-------------------+--------+\n",
      "|            actress|10492210|\n",
      "|           producer| 3944711|\n",
      "|production_designer|  383761|\n",
      "|             writer| 8495903|\n",
      "|              actor|13443688|\n",
      "|    cinematographer| 2068164|\n",
      "|      archive_sound|    4794|\n",
      "|    archive_footage|  404581|\n",
      "|               self|10562296|\n",
      "|             editor| 2012800|\n",
      "|           composer| 2014049|\n",
      "|           director| 7006843|\n",
      "+-------------------+--------+"
     ]
    }
   ],
   "source": [
    "df3.createOrReplaceTempView('Title_Principles')\n",
    "spark.sql('''SELECT category, COUNT(*) AS count\n",
    "            FROM Title_Principles\n",
    "            GROUP BY category''').show()"
   ]
  },
  {
   "cell_type": "markdown",
   "id": "f8671889",
   "metadata": {},
   "source": [
    "### Bar Chart of Top Job Categories\n",
    "\n",
    "With this data available, let us now build a barchart of the top 5 categories. \n",
    "\n",
    "**HINT**: don't forget about the matplotlib magic!\n",
    "\n",
    "```\n",
    "%matplot plt\n",
    "```"
   ]
  },
  {
   "cell_type": "code",
   "execution_count": 29,
   "id": "3c73edf1",
   "metadata": {
    "execution": {
     "iopub.execute_input": "2024-12-09T19:08:02.810258Z",
     "iopub.status.busy": "2024-12-09T19:08:02.809678Z",
     "iopub.status.idle": "2024-12-09T19:08:44.186002Z",
     "shell.execute_reply": "2024-12-09T19:08:44.185167Z",
     "shell.execute_reply.started": "2024-12-09T19:08:02.810221Z"
    },
    "tags": []
   },
   "outputs": [
    {
     "data": {
      "application/vnd.jupyter.widget-view+json": {
       "model_id": "2a434fd6fde84ba49fa0bd32bce59db7",
       "version_major": 2,
       "version_minor": 0
      },
      "text/plain": [
       "VBox()"
      ]
     },
     "metadata": {},
     "output_type": "display_data"
    },
    {
     "data": {
      "application/vnd.jupyter.widget-view+json": {
       "model_id": "",
       "version_major": 2,
       "version_minor": 0
      },
      "text/plain": [
       "FloatProgress(value=0.0, bar_style='info', description='Progress:', layout=Layout(height='25px', width='50%'),…"
      ]
     },
     "metadata": {},
     "output_type": "display_data"
    },
    {
     "name": "stdout",
     "output_type": "stream",
     "text": [
      "+-------------------+--------+\n",
      "|           category|   count|\n",
      "+-------------------+--------+\n",
      "|              actor|13443688|\n",
      "|               self|10562296|\n",
      "|            actress|10492210|\n",
      "|             writer| 8495903|\n",
      "|           director| 7006843|\n",
      "|           producer| 3944711|\n",
      "|    cinematographer| 2068164|\n",
      "|           composer| 2014049|\n",
      "|             editor| 2012800|\n",
      "|    archive_footage|  404581|\n",
      "|production_designer|  383761|\n",
      "|      archive_sound|    4794|\n",
      "+-------------------+--------+"
     ]
    }
   ],
   "source": [
    "df3.createOrReplaceTempView(\"Top_Categories\")\n",
    "TopCategories_sql = spark.sql('''SELECT category, COUNT(*) AS count\n",
    "                                FROM Top_Categories\n",
    "                                GROUP BY category\n",
    "                                ORDER BY count DESC''')\n",
    "TopCategories_sql.show()"
   ]
  },
  {
   "cell_type": "markdown",
   "id": "e54dd8ef-f32a-4e61-aab4-54aadd71eb58",
   "metadata": {},
   "source": [
    "You do not have to match the color and the figure size but all other aspects of the graph should be matched."
   ]
  },
  {
   "cell_type": "code",
   "execution_count": 30,
   "id": "eb4608e8-96d1-45d2-9d30-f53b5cd12688",
   "metadata": {
    "execution": {
     "iopub.execute_input": "2024-12-09T19:08:44.188902Z",
     "iopub.status.busy": "2024-12-09T19:08:44.188702Z",
     "iopub.status.idle": "2024-12-09T19:09:27.551532Z",
     "shell.execute_reply": "2024-12-09T19:09:27.550695Z",
     "shell.execute_reply.started": "2024-12-09T19:08:44.188881Z"
    },
    "tags": []
   },
   "outputs": [
    {
     "data": {
      "application/vnd.jupyter.widget-view+json": {
       "model_id": "ad647509ab474cf1beae8bf2ac945438",
       "version_major": 2,
       "version_minor": 0
      },
      "text/plain": [
       "VBox()"
      ]
     },
     "metadata": {},
     "output_type": "display_data"
    },
    {
     "data": {
      "application/vnd.jupyter.widget-view+json": {
       "model_id": "",
       "version_major": 2,
       "version_minor": 0
      },
      "text/plain": [
       "FloatProgress(value=0.0, bar_style='info', description='Progress:', layout=Layout(height='25px', width='50%'),…"
      ]
     },
     "metadata": {},
     "output_type": "display_data"
    },
    {
     "data": {
      "image/png": "[encoded data removed]",
      "text/plain": [
       "<IPython.core.display.Image object>"
      ]
     },
     "metadata": {},
     "output_type": "display_data"
    }
   ],
   "source": [
    "df = TopCategories_sql.toPandas()\n",
    "plt.figure(figsize=(5, 5))\n",
    "df.sort_values(by='count', ascending=False).head(5).plot.bar(x='category', y='count')\n",
    "plt.title('Top Job Categories')\n",
    "plt.xlabel('Job Categories')\n",
    "plt.ylabel('Count')\n",
    "plt.ylim(1.4-0.4)\n",
    "plt.xticks(rotation=45)\n",
    "plt.tight_layout()\n",
    "plt.show()\n",
    "\n",
    "%matplot plt"
   ]
  },
  {
   "cell_type": "markdown",
   "id": "a4436c54",
   "metadata": {
    "tags": []
   },
   "source": [
    "# PART 4 - Answer to the following questions:"
   ]
  },
  {
   "cell_type": "markdown",
   "id": "4c531a7b-8289-4784-825b-fabad415090b",
   "metadata": {},
   "source": [
    "1) You will need to join tables to answer the following questions. Not every question will require four tables. \n",
    "2) Your code should meet all the requirements asked in the questions.\n",
    "3) Your code should be generalizable enough for any given arguments."
   ]
  },
  {
   "cell_type": "markdown",
   "id": "08f889b6-79c0-47ab-97de-51fd67165caa",
   "metadata": {},
   "source": [
    "## 1) Which movies, released in 2023, have received more than 50,000 votes and have an average rating of 8 or higher?"
   ]
  },
  {
   "cell_type": "code",
   "execution_count": 31,
   "id": "df9133ab-c606-4d2e-ba25-d520178e6569",
   "metadata": {
    "execution": {
     "iopub.execute_input": "2024-12-09T19:09:27.554693Z",
     "iopub.status.busy": "2024-12-09T19:09:27.554434Z",
     "iopub.status.idle": "2024-12-09T19:09:38.860430Z",
     "shell.execute_reply": "2024-12-09T19:09:38.859618Z",
     "shell.execute_reply.started": "2024-12-09T19:09:27.554670Z"
    },
    "tags": []
   },
   "outputs": [
    {
     "data": {
      "application/vnd.jupyter.widget-view+json": {
       "model_id": "4a2a46aa2117433aae0e476a0b87b6a4",
       "version_major": 2,
       "version_minor": 0
      },
      "text/plain": [
       "VBox()"
      ]
     },
     "metadata": {},
     "output_type": "display_data"
    },
    {
     "data": {
      "application/vnd.jupyter.widget-view+json": {
       "model_id": "",
       "version_major": 2,
       "version_minor": 0
      },
      "text/plain": [
       "FloatProgress(value=0.0, bar_style='info', description='Progress:', layout=Layout(height='25px', width='50%'),…"
      ]
     },
     "metadata": {},
     "output_type": "display_data"
    },
    {
     "name": "stdout",
     "output_type": "stream",
     "text": [
      "+--------------------+-------+---------------+\n",
      "|               Movie|Ratings|Number of Votes|\n",
      "+--------------------+-------+---------------+\n",
      "|The Lord of the R...|    9.0|        1965196|\n",
      "|              Oldboy|    8.3|         630695|\n",
      "|        Finding Nemo|    8.2|        1106772|\n",
      "|   Kill Bill: Vol. 1|    8.2|        1184605|\n",
      "|  Memories of Murder|    8.1|         213610|\n",
      "|Pirates of the Ca...|    8.1|        1202458|\n",
      "| Munna Bhai M.B.B.S.|    8.1|          87972|\n",
      "|Spring, Summer, F...|    8.0|          86510|\n",
      "|            Dogville|    8.0|         157921|\n",
      "|            Big Fish|    8.0|         457515|\n",
      "+--------------------+-------+---------------+"
     ]
    }
   ],
   "source": [
    "(df2.filter((col('startYear') == 2003) & (col('titleType') == 'movie'))\n",
    "       .join(df4, on='tconst', how='inner')\n",
    "       .filter((col('numVotes') > 50000) & (col('averageRating') >= 8))\n",
    "       .select(col('primaryTitle').alias('Movie'),\n",
    "           col('averageRating').alias('Ratings'),\n",
    "           col('numVotes').alias('Number of Votes'))\n",
    "       .sort(col('Ratings').desc())).show()"
   ]
  },
  {
   "cell_type": "raw",
   "id": "7c3f47be-1ba4-4565-abbc-8e876c44d9a0",
   "metadata": {
    "tags": []
   },
   "source": [
    "## 2) List the films featuring Cillian Murphy as an actor since 2007, including their ratings. What is his highest-rated movie?"
   ]
  },
  {
   "cell_type": "code",
   "execution_count": 50,
   "id": "3bded4c1-78aa-44c7-ad8e-11d0d4b8db9f",
   "metadata": {
    "execution": {
     "iopub.execute_input": "2024-12-09T22:28:02.251518Z",
     "iopub.status.busy": "2024-12-09T22:28:02.251219Z",
     "iopub.status.idle": "2024-12-09T22:30:38.012103Z",
     "shell.execute_reply": "2024-12-09T22:30:38.011400Z",
     "shell.execute_reply.started": "2024-12-09T22:28:02.251493Z"
    },
    "tags": []
   },
   "outputs": [
    {
     "data": {
      "application/vnd.jupyter.widget-view+json": {
       "model_id": "d63176e215234195a1916fbcb8d149a3",
       "version_major": 2,
       "version_minor": 0
      },
      "text/plain": [
       "VBox()"
      ]
     },
     "metadata": {},
     "output_type": "display_data"
    },
    {
     "data": {
      "application/vnd.jupyter.widget-view+json": {
       "model_id": "",
       "version_major": 2,
       "version_minor": 0
      },
      "text/plain": [
       "FloatProgress(value=0.0, bar_style='info', description='Progress:', layout=Layout(height='25px', width='50%'),…"
      ]
     },
     "metadata": {},
     "output_type": "display_data"
    },
    {
     "name": "stdout",
     "output_type": "stream",
     "text": [
      "+-----------------------+----+----------+\n",
      "|Movies                 |Year|Avg Rating|\n",
      "+-----------------------+----+----------+\n",
      "|Small Things Like These|2024|7.2       |\n",
      "|Oppenheimer            |2023|8.4       |\n",
      "|Kensuke's Kingdom      |2023|7.1       |\n",
      "|A Quiet Place Part II  |2020|7.2       |\n",
      "|Anna                   |2019|6.6       |\n",
      "|Anthropoid             |2016|7.2       |\n",
      "|Free Fire              |2016|6.3       |\n",
      "|In the Heart of the Sea|2015|6.9       |\n",
      "|Transcendence          |2014|6.2       |\n",
      "|Aloft                  |2014|5.3       |\n",
      "|Red Lights             |2012|6.2       |\n",
      "|Retreat                |2011|5.8       |\n",
      "|In Time                |2011|6.7       |\n",
      "|Peacock                |2010|6.2       |\n",
      "|Perrier's Bounty       |2009|6.3       |\n",
      "|Waveriders             |2008|6.8       |\n",
      "|Sunshine               |2007|7.2       |\n",
      "|Watching the Detectives|2007|6.2       |\n",
      "+-----------------------+----+----------+\n",
      "\n",
      "Highest rated movie: Oppenheimer with a rating of 8.4"
     ]
    }
   ],
   "source": [
    "result =(df1.filter(col('primaryName') == 'Cillian Murphy')\n",
    "    .join(df3, on='nconst', how='inner')\n",
    "    .filter(col('category') == 'actor')\n",
    "    .join(df2, on='tconst', how='inner')\n",
    "    .filter((col('titleType') == 'movie') & (col('startYear') >= 2007))\n",
    "    .join(df4, on='tconst', how='inner')\n",
    "    .select(col('primaryTitle').alias('Movies'), col('startYear').alias('Year'),\n",
    "            col('averageRating').alias('Avg Rating')).sort(col('Year').desc()))\n",
    "\n",
    "result.show(truncate=False)\n",
    "highest_rated = result.orderBy(col('Avg Rating').desc()).limit(1).collect()[0]\n",
    "\n",
    "print(f\"Highest rated movie: {highest_rated['Movies']} with a rating of {highest_rated['Avg Rating']}\")\n"
   ]
  },
  {
   "cell_type": "markdown",
   "id": "7fe49c7b-c432-4353-9d87-28b1f97470e7",
   "metadata": {},
   "source": [
    "## 3) How many movies has Zendaya featured as an actress in each year?"
   ]
  },
  {
   "cell_type": "code",
   "execution_count": 33,
   "id": "1a43cd8f-b6cf-463a-8fc9-68816e44834f",
   "metadata": {
    "execution": {
     "iopub.execute_input": "2024-12-09T19:10:50.312488Z",
     "iopub.status.busy": "2024-12-09T19:10:50.312269Z",
     "iopub.status.idle": "2024-12-09T19:11:59.747999Z",
     "shell.execute_reply": "2024-12-09T19:11:59.747196Z",
     "shell.execute_reply.started": "2024-12-09T19:10:50.312463Z"
    },
    "tags": []
   },
   "outputs": [
    {
     "data": {
      "application/vnd.jupyter.widget-view+json": {
       "model_id": "3da9b8dc59f849d2bdaf26d41d9961ac",
       "version_major": 2,
       "version_minor": 0
      },
      "text/plain": [
       "VBox()"
      ]
     },
     "metadata": {},
     "output_type": "display_data"
    },
    {
     "data": {
      "application/vnd.jupyter.widget-view+json": {
       "model_id": "",
       "version_major": 2,
       "version_minor": 0
      },
      "text/plain": [
       "FloatProgress(value=0.0, bar_style='info', description='Progress:', layout=Layout(height='25px', width='50%'),…"
      ]
     },
     "metadata": {},
     "output_type": "display_data"
    },
    {
     "name": "stdout",
     "output_type": "stream",
     "text": [
      "+----+-----+\n",
      "|Year|count|\n",
      "+----+-----+\n",
      "|2024|2    |\n",
      "|2021|3    |\n",
      "|2018|2    |\n",
      "|2017|1    |\n",
      "+----+-----+"
     ]
    }
   ],
   "source": [
    "(df1.filter(col('primaryName') == 'Zendaya')\n",
    "       .join(df3, on='nconst', how='inner')\n",
    "       .filter(col('category') == 'actress')\n",
    "       .join(df2, on='tconst', how='inner')\n",
    "       .filter((col('titleType') == 'movie') & (col('startYear') != '\\\\N'))\n",
    "       .groupBy(col('startYear').alias('Year'))\n",
    "       .count()\n",
    "       .sort(col('Year').desc())).show(truncate=False)"
   ]
  },
  {
   "cell_type": "markdown",
   "id": "230da1d4-5cde-4f3c-9aed-bb88c7aa8d6a",
   "metadata": {
    "execution": {
     "iopub.execute_input": "2024-03-12T19:07:22.538196Z",
     "iopub.status.busy": "2024-03-12T19:07:22.537886Z",
     "iopub.status.idle": "2024-03-12T19:07:22.582512Z",
     "shell.execute_reply": "2024-03-12T19:07:22.581837Z",
     "shell.execute_reply.started": "2024-03-12T19:07:22.538169Z"
    },
    "tags": []
   },
   "source": [
    "## 4) At what age did Audrey Hepburn, known for her role in the movie 'Breakfast at Tiffany's,' pass away?"
   ]
  },
  {
   "cell_type": "code",
   "execution_count": 34,
   "id": "c296c8d1-2651-474c-a210-27f3962b9ac3",
   "metadata": {
    "execution": {
     "iopub.execute_input": "2024-12-09T19:11:59.752032Z",
     "iopub.status.busy": "2024-12-09T19:11:59.751587Z",
     "iopub.status.idle": "2024-12-09T19:12:11.054960Z",
     "shell.execute_reply": "2024-12-09T19:12:11.054139Z",
     "shell.execute_reply.started": "2024-12-09T19:11:59.751997Z"
    },
    "tags": []
   },
   "outputs": [
    {
     "data": {
      "application/vnd.jupyter.widget-view+json": {
       "model_id": "4d032d4922654d66909cd3e8193a3cc3",
       "version_major": 2,
       "version_minor": 0
      },
      "text/plain": [
       "VBox()"
      ]
     },
     "metadata": {},
     "output_type": "display_data"
    },
    {
     "data": {
      "application/vnd.jupyter.widget-view+json": {
       "model_id": "",
       "version_major": 2,
       "version_minor": 0
      },
      "text/plain": [
       "FloatProgress(value=0.0, bar_style='info', description='Progress:', layout=Layout(height='25px', width='50%'),…"
      ]
     },
     "metadata": {},
     "output_type": "display_data"
    },
    {
     "name": "stdout",
     "output_type": "stream",
     "text": [
      "Audrey Hepburn passed away at the age of 64."
     ]
    }
   ],
   "source": [
    "age = df1.filter(col('primaryName') == 'Audrey Hepburn') \\\n",
    "    .select((col('deathYear').cast('int') - col('birthYear').cast('int')).alias('Age at Death')) \\\n",
    "    .collect()[0]['Age at Death']\n",
    "\n",
    "print(f\"Audrey Hepburn passed away at the age of {age}.\")\n"
   ]
  },
  {
   "cell_type": "markdown",
   "id": "01c35bd1-25f1-4f7c-8781-ee97277e5b31",
   "metadata": {},
   "source": [
    "## 5) What is the movie(s) with the highest average rating among those featuring Chris Evans, known for his role in 'Captain America: The First Avenger'?\n",
    "\n",
    "Write your code in a way that it finds and displays all movies with the highest rating, even if there's more than one. "
   ]
  },
  {
   "cell_type": "code",
   "execution_count": 35,
   "id": "edaa198b-4879-4a51-ba20-fccbc2b77a56",
   "metadata": {
    "execution": {
     "iopub.execute_input": "2024-12-09T19:12:11.058285Z",
     "iopub.status.busy": "2024-12-09T19:12:11.058077Z",
     "iopub.status.idle": "2024-12-09T19:13:22.502428Z",
     "shell.execute_reply": "2024-12-09T19:13:22.501636Z",
     "shell.execute_reply.started": "2024-12-09T19:12:11.058264Z"
    },
    "tags": []
   },
   "outputs": [
    {
     "data": {
      "application/vnd.jupyter.widget-view+json": {
       "model_id": "f62396106716432185254729620cb22e",
       "version_major": 2,
       "version_minor": 0
      },
      "text/plain": [
       "VBox()"
      ]
     },
     "metadata": {},
     "output_type": "display_data"
    },
    {
     "data": {
      "application/vnd.jupyter.widget-view+json": {
       "model_id": "",
       "version_major": 2,
       "version_minor": 0
      },
      "text/plain": [
       "FloatProgress(value=0.0, bar_style='info', description='Progress:', layout=Layout(height='25px', width='50%'),…"
      ]
     },
     "metadata": {},
     "output_type": "display_data"
    },
    {
     "name": "stdout",
     "output_type": "stream",
     "text": [
      "+--------------------+------------------+\n",
      "|              Movies|Highest Avg Rating|\n",
      "+--------------------+------------------+\n",
      "|Avengers: Infinit...|               8.4|\n",
      "|   Avengers: Endgame|               8.4|\n",
      "+--------------------+------------------+\n",
      "only showing top 2 rows"
     ]
    }
   ],
   "source": [
    "(df1.filter(col('primaryName') == 'Chris Evans')\n",
    "       .join(df3, on='nconst', how='inner')\n",
    "       .filter(col('category') == 'actor')\n",
    "       .join(df2, on='tconst', how='inner')\n",
    "       .filter(col('titleType') == 'movie')\n",
    "       .join(df4, on='tconst', how='inner')\n",
    "       .select(col('primaryTitle').alias('Movies'),\n",
    "               col('averageRating').alias('Highest Avg Rating'))\n",
    "       .sort(col('Highest Avg Rating').desc())).show(2)"
   ]
  },
  {
   "cell_type": "markdown",
   "id": "9001ac0a-4e85-428d-8c89-878bb7a2d01b",
   "metadata": {
    "tags": []
   },
   "source": [
    "## 6) Among the movies in which Clint Eastwood, known for 'The Good, the Bad and the Ugly', and Harrison Ford, known for 'Raiders of the Lost Ark', have acted, who has the higher average rating?\n",
    "\n",
    "Hint: You will need to calculate the average rating across all movies for each actor."
   ]
  },
  {
   "cell_type": "code",
   "execution_count": 36,
   "id": "0bf482ba-092a-4be8-9dc7-007d7ac44900",
   "metadata": {
    "execution": {
     "iopub.execute_input": "2024-12-09T19:13:22.506888Z",
     "iopub.status.busy": "2024-12-09T19:13:22.506676Z",
     "iopub.status.idle": "2024-12-09T19:15:52.196778Z",
     "shell.execute_reply": "2024-12-09T19:15:52.195990Z",
     "shell.execute_reply.started": "2024-12-09T19:13:22.506867Z"
    },
    "tags": []
   },
   "outputs": [
    {
     "data": {
      "application/vnd.jupyter.widget-view+json": {
       "model_id": "41f515fea3a346689e8428505b74e5d7",
       "version_major": 2,
       "version_minor": 0
      },
      "text/plain": [
       "VBox()"
      ]
     },
     "metadata": {},
     "output_type": "display_data"
    },
    {
     "data": {
      "application/vnd.jupyter.widget-view+json": {
       "model_id": "",
       "version_major": 2,
       "version_minor": 0
      },
      "text/plain": [
       "FloatProgress(value=0.0, bar_style='info', description='Progress:', layout=Layout(height='25px', width='50%'),…"
      ]
     },
     "metadata": {},
     "output_type": "display_data"
    },
    {
     "name": "stdout",
     "output_type": "stream",
     "text": [
      "The average rating of Harrison Ford is 6.63\n",
      "The average rating of Clint Eastwood is 6.86\n",
      "Clint Eastwood has a higher average rating"
     ]
    }
   ],
   "source": [
    "#tried everything, even exploded knownfortitles but still this was the only code that \n",
    "#gave me the closest \n",
    "#result to Harrison, would like some feedback about this one\n",
    "\n",
    "clint_avg_rating = (df1.filter(col('primaryName') == 'Clint Eastwood')\n",
    "       .join(df3, on='nconst', how='inner')\n",
    "       .filter(col('category') == 'actor')\n",
    "       .join(df2, on='tconst', how='inner')\n",
    "       .filter(col('titleType') == 'movie')\n",
    "       .join(df4, on='tconst', how='inner')\n",
    "       .agg(avg(col('averageRating')).alias('Clint Avg Rating'))\n",
    "       .collect()[0]['Clint Avg Rating'])\n",
    "\n",
    "harrison_avg_rating = (df1.filter((col('primaryName') == 'Harrison Ford') &\n",
    "        (col('primaryProfession').contains('actor')))\n",
    "        .join(df3, on='nconst', how='inner')\n",
    "        .join(df2, on='tconst', how='inner')\n",
    "        .filter(col('titleType') == 'movie')\n",
    "        .join(df4, on='tconst', how='inner')\n",
    "        .agg(avg(col('averageRating')).alias('Harrison Avg Rating'))\n",
    "        .collect()[0]['Harrison Avg Rating'])\n",
    "\n",
    "print(f\"The average rating of Harrison Ford is {harrison_avg_rating:.2f}\")\n",
    "print(f\"The average rating of Clint Eastwood is {clint_avg_rating:.2f}\")\n",
    "\n",
    "if clint_avg_rating > harrison_avg_rating:\n",
    "    print(\"Clint Eastwood has a higher average rating\")\n",
    "else:\n",
    "    print(\"Harrison Ford has a higher average rating\")"
   ]
  },
  {
   "cell_type": "markdown",
   "id": "17273925",
   "metadata": {},
   "source": [
    "## 7) What are the movies in which both Johnny Depp and Helena Bonham Carter have acted together?"
   ]
  },
  {
   "cell_type": "code",
   "execution_count": 37,
   "id": "dfced2cd",
   "metadata": {
    "execution": {
     "iopub.execute_input": "2024-12-09T19:15:52.201179Z",
     "iopub.status.busy": "2024-12-09T19:15:52.200693Z",
     "iopub.status.idle": "2024-12-09T19:17:59.824712Z",
     "shell.execute_reply": "2024-12-09T19:17:59.824020Z",
     "shell.execute_reply.started": "2024-12-09T19:15:52.201143Z"
    },
    "tags": []
   },
   "outputs": [
    {
     "data": {
      "application/vnd.jupyter.widget-view+json": {
       "model_id": "693eb1681e544c7ebd232413baee7f26",
       "version_major": 2,
       "version_minor": 0
      },
      "text/plain": [
       "VBox()"
      ]
     },
     "metadata": {},
     "output_type": "display_data"
    },
    {
     "data": {
      "application/vnd.jupyter.widget-view+json": {
       "model_id": "",
       "version_major": 2,
       "version_minor": 0
      },
      "text/plain": [
       "FloatProgress(value=0.0, bar_style='info', description='Progress:', layout=Layout(height='25px', width='50%'),…"
      ]
     },
     "metadata": {},
     "output_type": "display_data"
    },
    {
     "name": "stdout",
     "output_type": "stream",
     "text": [
      "+----------------------------------------------+\n",
      "|Common Movies                                 |\n",
      "+----------------------------------------------+\n",
      "|Corpse Bride                                  |\n",
      "|Dark Shadows                                  |\n",
      "|Charlie and the Chocolate Factory             |\n",
      "|Alice Through the Looking Glass               |\n",
      "|Sweeney Todd: The Demon Barber of Fleet Street|\n",
      "|Alice in Wonderland                           |\n",
      "+----------------------------------------------+"
     ]
    }
   ],
   "source": [
    "depp_titles = (df2.join(df3, on='tconst', how='inner')\n",
    "       .join(df1, on='nconst', how='inner')\n",
    "       .filter((col('titleType') == 'movie') & (col('primaryName') == 'Johnny Depp') &\n",
    "               (col('category') == 'actor'))\n",
    "       .select(col('tconst'), col('primaryTitle')).distinct())\n",
    "\n",
    "carter_titles = (df2.join(df3, on='tconst', how='inner')\n",
    "       .join(df1, on='nconst', how='inner')\n",
    "       .filter((col('titleType') == 'movie') & (col('primaryName') == 'Helena Bonham Carter') &\n",
    "               (col('category') == 'actress'))\n",
    "       .select(col('tconst'), col('primaryTitle').alias('Carter_movies')).distinct())\n",
    "\n",
    "acted_together = ( depp_titles.join(carter_titles, on='tconst', how='inner')\n",
    "               .select(col('primaryTitle').alias('Common Movies'))\n",
    "               .distinct())\n",
    "\n",
    "acted_together.show(truncate=False)"
   ]
  },
  {
   "cell_type": "markdown",
   "id": "c34feacd-3185-4dc1-b11e-f74c0545adcb",
   "metadata": {
    "tags": []
   },
   "source": [
    "## 8) Among the TV series featuring David Tennant, who is known for his role in Doctor Who, which rank in the top 5 for viewer engagement? Does Doctor Who make it into the highest-ranked series?"
   ]
  },
  {
   "cell_type": "code",
   "execution_count": 38,
   "id": "3cea647c-9abd-4f11-8f38-4ea675174643",
   "metadata": {
    "execution": {
     "iopub.execute_input": "2024-12-09T19:17:59.828853Z",
     "iopub.status.busy": "2024-12-09T19:17:59.828518Z",
     "iopub.status.idle": "2024-12-09T19:20:19.594634Z",
     "shell.execute_reply": "2024-12-09T19:20:19.593826Z",
     "shell.execute_reply.started": "2024-12-09T19:17:59.828817Z"
    },
    "tags": []
   },
   "outputs": [
    {
     "data": {
      "application/vnd.jupyter.widget-view+json": {
       "model_id": "504f433ede424f7b80f17eeea6f4bd31",
       "version_major": 2,
       "version_minor": 0
      },
      "text/plain": [
       "VBox()"
      ]
     },
     "metadata": {},
     "output_type": "display_data"
    },
    {
     "data": {
      "application/vnd.jupyter.widget-view+json": {
       "model_id": "",
       "version_major": 2,
       "version_minor": 0
      },
      "text/plain": [
       "FloatProgress(value=0.0, bar_style='info', description='Progress:', layout=Layout(height='25px', width='50%'),…"
      ]
     },
     "metadata": {},
     "output_type": "display_data"
    },
    {
     "name": "stdout",
     "output_type": "stream",
     "text": [
      "+-------------+---------------+\n",
      "|    TV Series|Number of Votes|\n",
      "+-------------+---------------+\n",
      "|   Doctor Who|         245190|\n",
      "|Jessica Jones|         225869|\n",
      "|  Broadchurch|         126132|\n",
      "|   Good Omens|         111450|\n",
      "|       Ahsoka|         107410|\n",
      "+-------------+---------------+\n",
      "only showing top 5 rows\n",
      "\n",
      "Doctor Who is in the top 5 TV series for viewer engagement with 245190 votes."
     ]
    }
   ],
   "source": [
    "tv_series = (df1.filter(col('primaryName') == 'David Tennant')\n",
    "       .join(df3, on='nconst', how='inner')\n",
    "       .filter(col('category') == 'actor')\n",
    "       .join(df2, on='tconst', how='inner')\n",
    "       .filter(col('titleType') == 'tvSeries')\n",
    "       .join(df4, on='tconst', how='inner')\n",
    "       .select(col('primaryTitle').alias('TV Series'),col('numVotes').alias('Number of Votes'))\n",
    "       .sort(col('Number of Votes').desc()))\n",
    "\n",
    "tv_series.show(5)\n",
    "\n",
    "top_5_results = tv_series.limit(5).collect()\n",
    "\n",
    "for row in top_5_results:\n",
    "    if row['TV Series'] == \"Doctor Who\":\n",
    "        print(f\"Doctor Who is in the top 5 TV series for viewer engagement with {row['Number of Votes']} votes.\")\n"
   ]
  },
  {
   "cell_type": "markdown",
   "id": "580300ca-8b5d-4edc-a7ef-9aec71e696b9",
   "metadata": {
    "tags": []
   },
   "source": [
    "## 9) What are the highest and lowest-rated movies in the Harry Potter franchise featuring Daniel Radcliffe, and what are their ratings?\n",
    "\n",
    "First, get the ratings for each movie in the franchise, and then find the highest and lowest-rated movies."
   ]
  },
  {
   "cell_type": "code",
   "execution_count": 51,
   "id": "abab66bb-8cf6-4dc7-bc8d-7a771845aa7f",
   "metadata": {
    "execution": {
     "iopub.execute_input": "2024-12-09T22:33:17.433983Z",
     "iopub.status.busy": "2024-12-09T22:33:17.433470Z",
     "iopub.status.idle": "2024-12-09T22:39:18.535913Z",
     "shell.execute_reply": "2024-12-09T22:39:18.535153Z",
     "shell.execute_reply.started": "2024-12-09T22:33:17.433950Z"
    },
    "tags": []
   },
   "outputs": [
    {
     "data": {
      "application/vnd.jupyter.widget-view+json": {
       "model_id": "30c24288822348dc91134708ae06906d",
       "version_major": 2,
       "version_minor": 0
      },
      "text/plain": [
       "VBox()"
      ]
     },
     "metadata": {},
     "output_type": "display_data"
    },
    {
     "data": {
      "application/vnd.jupyter.widget-view+json": {
       "model_id": "",
       "version_major": 2,
       "version_minor": 0
      },
      "text/plain": [
       "FloatProgress(value=0.0, bar_style='info', description='Progress:', layout=Layout(height='25px', width='50%'),…"
      ]
     },
     "metadata": {},
     "output_type": "display_data"
    },
    {
     "name": "stdout",
     "output_type": "stream",
     "text": [
      "+--------------------------------------------+-------------+\n",
      "|primaryTitle                                |averageRating|\n",
      "+--------------------------------------------+-------------+\n",
      "|Harry Potter and the Half-Blood Prince      |7.6          |\n",
      "|Harry Potter and the Prisoner of Azkaban    |7.9          |\n",
      "|Harry Potter and the Deathly Hallows: Part 2|8.1          |\n",
      "|Harry Potter and the Deathly Hallows: Part 1|7.7          |\n",
      "|Harry Potter and the Chamber of Secrets     |7.4          |\n",
      "|Harry Potter and the Goblet of Fire         |7.7          |\n",
      "|Harry Potter and the Sorcerer's Stone       |7.6          |\n",
      "|Harry Potter and the Order of the Phoenix   |7.5          |\n",
      "+--------------------------------------------+-------------+\n",
      "\n",
      "Highest Rating in the Harry Potter Franchise: Harry Potter and the Deathly Hallows: Part 2 with a rating of 8.1\n",
      "Lowest Rating in the Harry Potter Franchise: Harry Potter and the Chamber of Secrets with a rating of 7.4"
     ]
    }
   ],
   "source": [
    "from pyspark.sql.functions import max, min\n",
    "\n",
    "harry_potter_movies = (df1.filter(col('primaryName') == 'Daniel Radcliffe')\n",
    "       .join(df3, on='nconst', how='inner')\n",
    "       .filter(col('category') == 'actor')\n",
    "       .join(df2, on='tconst', how='inner')\n",
    "       .filter((col('titleType') == 'movie') & col('primaryTitle').contains('Harry Potter'))\n",
    "       .join(df4, on='tconst', how='inner')\n",
    "       .select(col('primaryTitle').alias('primaryTitle'),\n",
    "               col('averageRating').alias('averageRating')))\n",
    "\n",
    "harry_potter_movies.show(truncate=False)\n",
    "\n",
    "max_rating = harry_potter_movies.agg(max(col('averageRating'))).collect()[0][0]\n",
    "min_rating = harry_potter_movies.agg(min(col('averageRating'))).collect()[0][0]\n",
    "\n",
    "highest_rated = (harry_potter_movies.filter(col('averageRating') == max_rating).collect()[0])\n",
    "lowest_rated = (harry_potter_movies.filter(col('averageRating') == min_rating).collect()[0])\n",
    "\n",
    "print(f\"Highest Rating in the Harry Potter Franchise: {highest_rated['primaryTitle']} with a rating of {highest_rated['averageRating']}\")\n",
    "print(f\"Lowest Rating in the Harry Potter Franchise: {lowest_rated['primaryTitle']} with a rating of {lowest_rated['averageRating']}\")\n"
   ]
  },
  {
   "cell_type": "code",
   "execution_count": null,
   "id": "1217617e-31ad-48e7-a4cf-57067d1b54bb",
   "metadata": {},
   "outputs": [],
   "source": []
  }
 ],
 "metadata": {
  "kernelspec": {
   "display_name": "PySpark",
   "language": "python",
   "name": "pysparkkernel"
  },
  "language_info": {
   "codemirror_mode": {
    "name": "python",
    "version": 3
   },
   "file_extension": ".py",
   "mimetype": "text/x-python",
   "name": "pyspark",
   "pygments_lexer": "python3"
  }
 },
 "nbformat": 4,
 "nbformat_minor": 5
}
